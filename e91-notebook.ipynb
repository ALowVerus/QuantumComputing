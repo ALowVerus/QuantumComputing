{
 "cells": [
  {
   "cell_type": "markdown",
   "metadata": {
    "tags": [
     "remove_cell"
    ]
   },
   "source": [
    "# Quantum Key Distribution - E91"
   ]
  },
  {
   "cell_type": "markdown",
   "metadata": {},
   "source": [
    "Original code, which explained the BB84 protocol, sourced from: \n",
    "\n",
    "https://qiskit.org/textbook/ch-algorithms/quantum-key-distribution.html"
   ]
  },
  {
   "cell_type": "markdown",
   "metadata": {
    "tags": [
     "contents"
    ]
   },
   "source": [
    "## Contents\n",
    "\n",
    "1. Introduction\n",
    "2. Theory Demonstration\n",
    "2. Protocol Overview\n",
    "3. Qiskit Example"
   ]
  },
  {
   "cell_type": "markdown",
   "metadata": {},
   "source": [
    "## 1. Introduction\n",
    "\n",
    "When Alice and Bob want to communicate a secret message (such as Bob’s online banking details) over an insecure channel (such as the internet), its essential to encrypt the message. Since cryptography is a large area and almost all of it is outside the scope of this textbook, we will have to believe that Alice and Bob having a secret key that no-one else knows is useful and allows them to communicate using symmetric-key cryptography.\n",
    "\n",
    "If Alice and Bob want to use Eve’s classical communication channel to share their key, it is impossible to tell if Eve has made a copy of this key for herself- they must place complete trust in Eve that she is not listening. If, however, Eve provides a quantum communication channel, Alice and Bob no longer need to trust Eve at all- they will know if she tries to read Bob’s message before it gets to Alice.\n",
    "\n",
    "For some readers, it may be useful to give an idea of how a quantum channel may be physically implemented. An example of a classical channel could be a telephone line; we send electric signals through the line that represent our message (or bits). A proposed example of a quantum communication channel could be some kind of fibre-optic cable, through which we can send individual photons (particles of light). Photons have a property called _polarisation,_ and this polarisation can be one of two states. We can use this to represent a qubit.\n",
    "\n",
    "\n",
    "## 2. Theory Demonstration\n",
    "\n",
    "The protocol makes use of the fact that measuring a qubit can change its state. If Alice sends Bob a qubit, and an eavesdropper (Eve) tries to measure it before Bob does, there is a chance that Eve’s measurement will change the state of the qubit and Bob will not receive the qubit state Alice sent.  "
   ]
  },
  {
   "cell_type": "code",
   "execution_count": 1,
   "metadata": {
    "scrolled": true,
    "tags": [
     "thebelab-init"
    ]
   },
   "outputs": [
    {
     "name": "stdout",
     "output_type": "stream",
     "text": [
      "Imports Successful\n"
     ]
    }
   ],
   "source": [
    "from qiskit import QuantumCircuit, Aer, transpile, assemble\n",
    "from qiskit.visualization import plot_histogram, plot_bloch_multivector\n",
    "from numpy.random import randint, choice\n",
    "import numpy as np\n",
    "print(\"Imports Successful\")"
   ]
  },
  {
   "cell_type": "markdown",
   "metadata": {},
   "source": [
    "If Alice prepares a qubit in the state $|+\\rangle$ (`0` in the X-basis), and Bob measures it in the X-basis, Bob is sure to measure `0`:"
   ]
  },
  {
   "cell_type": "code",
   "execution_count": 2,
   "metadata": {},
   "outputs": [
    {
     "data": {
      "text/html": [
       "<pre style=\"word-wrap: normal;white-space: pre;background: #fff0;line-height: 1.1;font-family: &quot;Courier New&quot;,Courier,monospace\">     ┌───┐ ░ ┌───┐┌─┐\n",
       "q_0: ┤ H ├─░─┤ H ├┤M├\n",
       "     └───┘ ░ └───┘└╥┘\n",
       "c: 1/══════════════╩═\n",
       "                   0 </pre>"
      ],
      "text/plain": [
       "     ┌───┐ ░ ┌───┐┌─┐\n",
       "q_0: ┤ H ├─░─┤ H ├┤M├\n",
       "     └───┘ ░ └───┘└╥┘\n",
       "c: 1/══════════════╩═\n",
       "                   0 "
      ]
     },
     "metadata": {},
     "output_type": "display_data"
    },
    {
     "data": {
      "image/png": "[encoded data removed]",
      "text/plain": [
       "<Figure size 504x360 with 1 Axes>"
      ]
     },
     "execution_count": 2,
     "metadata": {},
     "output_type": "execute_result"
    }
   ],
   "source": [
    "qc = QuantumCircuit(1,1)\n",
    "# Alice prepares qubit in state |+>\n",
    "qc.h(0)\n",
    "qc.barrier()\n",
    "# Alice now sends the qubit to Bob\n",
    "# who measures it in the X-basis\n",
    "qc.h(0)\n",
    "qc.measure(0,0)\n",
    "\n",
    "# Draw and simulate circuit\n",
    "display(qc.draw())\n",
    "qasm_sim = Aer.get_backend('qasm_simulator')\n",
    "job = qasm_sim.run(assemble(qc))\n",
    "plot_histogram(job.result().get_counts())"
   ]
  },
  {
   "cell_type": "markdown",
   "metadata": {},
   "source": [
    "But if Eve tries to measure this qubit in the Z-basis before it reaches Bob, she will change the qubit's state from $|+\\rangle$ to either $|0\\rangle$ or $|1\\rangle$, and Bob is no longer certain to measure `0`:"
   ]
  },
  {
   "cell_type": "code",
   "execution_count": 3,
   "metadata": {},
   "outputs": [
    {
     "data": {
      "text/html": [
       "<pre style=\"word-wrap: normal;white-space: pre;background: #fff0;line-height: 1.1;font-family: &quot;Courier New&quot;,Courier,monospace\">     ┌───┐┌─┐ ░ ┌───┐┌─┐\n",
       "q_0: ┤ H ├┤M├─░─┤ H ├┤M├\n",
       "     └───┘└╥┘ ░ └───┘└╥┘\n",
       "c: 1/══════╩══════════╩═\n",
       "           0          0 </pre>"
      ],
      "text/plain": [
       "     ┌───┐┌─┐ ░ ┌───┐┌─┐\n",
       "q_0: ┤ H ├┤M├─░─┤ H ├┤M├\n",
       "     └───┘└╥┘ ░ └───┘└╥┘\n",
       "c: 1/══════╩══════════╩═\n",
       "           0          0 "
      ]
     },
     "metadata": {},
     "output_type": "display_data"
    },
    {
     "data": {
      "image/png": "[encoded data removed]",
      "text/plain": [
       "<Figure size 504x360 with 1 Axes>"
      ]
     },
     "execution_count": 3,
     "metadata": {},
     "output_type": "execute_result"
    }
   ],
   "source": [
    "qc = QuantumCircuit(1,1)\n",
    "# Alice prepares qubit in state |+>\n",
    "qc.h(0)\n",
    "# Alice now sends the qubit to Bob\n",
    "# but Eve intercepts and tries to read it\n",
    "qc.measure(0, 0)\n",
    "qc.barrier()\n",
    "# Eve then passes this on to Bob\n",
    "# who measures it in the X-basis\n",
    "qc.h(0)\n",
    "qc.measure(0,0)\n",
    "\n",
    "# Draw and simulate circuit\n",
    "display(qc.draw())\n",
    "qasm_sim = Aer.get_backend('qasm_simulator')\n",
    "job = qasm_sim.run(assemble(qc))\n",
    "plot_histogram(job.result().get_counts())"
   ]
  },
  {
   "cell_type": "markdown",
   "metadata": {},
   "source": [
    "We can see here that Bob now has a 50% chance of measuring `1`, and if he does, he and Alice will know there is something wrong with their channel.\n",
    "\n",
    "Another key concept in the E91 protocol is the EPR pair. An EPR pair is a pair of maximally entangled qubits (two qubits in a Bell state). Qubits in an EPR pair have the interesting property that after measuring one of them in a given basis, if the paired qubit is measured in that same basis, it will, with 100% certainty, be report a known value. If, however, the second qubit is measured in a different basis, it will report each possible outcome with known probabilities.\n",
    "\n",
    "By way of example, let us generate many instances of the $(1/sqrt(2))(|00\\rangle + |11\\rangle)$ EPR pair, measure the first qubit, then measure the second qubit."
   ]
  },
  {
   "cell_type": "code",
   "execution_count": 4,
   "metadata": {},
   "outputs": [
    {
     "data": {
      "text/html": [
       "<pre style=\"word-wrap: normal;white-space: pre;background: #fff0;line-height: 1.1;font-family: &quot;Courier New&quot;,Courier,monospace\">     ┌───┐     ┌─┐   \n",
       "q_0: ┤ H ├──■──┤M├───\n",
       "     └───┘┌─┴─┐└╥┘┌─┐\n",
       "q_1: ─────┤ X ├─╫─┤M├\n",
       "          └───┘ ║ └╥┘\n",
       "c: 2/═══════════╩══╩═\n",
       "                0  1 </pre>"
      ],
      "text/plain": [
       "     ┌───┐     ┌─┐   \n",
       "q_0: ┤ H ├──■──┤M├───\n",
       "     └───┘┌─┴─┐└╥┘┌─┐\n",
       "q_1: ─────┤ X ├─╫─┤M├\n",
       "          └───┘ ║ └╥┘\n",
       "c: 2/═══════════╩══╩═\n",
       "                0  1 "
      ]
     },
     "metadata": {},
     "output_type": "display_data"
    },
    {
     "data": {
      "image/png": "[encoded data removed]",
      "text/plain": [
       "<Figure size 504x360 with 1 Axes>"
      ]
     },
     "execution_count": 4,
     "metadata": {},
     "output_type": "execute_result"
    }
   ],
   "source": [
    "# Generate a quantum circuit\n",
    "qc = QuantumCircuit(2,2)\n",
    "# Entangle an EPR pair\n",
    "qc.h(0)\n",
    "qc.cx(0,1)\n",
    "# Measure each qubit in turn\n",
    "qc.measure(0,0)\n",
    "qc.measure(1,1)\n",
    "# Display results\n",
    "display(qc.draw())\n",
    "qasm_sim = Aer.get_backend('qasm_simulator')\n",
    "job = qasm_sim.run(assemble(qc))\n",
    "plot_histogram(job.result().get_counts())"
   ]
  },
  {
   "cell_type": "markdown",
   "metadata": {},
   "source": [
    "Note that the two outcomes are $|00\\rangle$ and $|11\\rangle$, in equal amounts. When the first bit is measured a 0, the second is measured a 0; likewise with 1.\n",
    "\n",
    "But what happens when the two measurements of the qubits in an EPR pair are taken on different bases? \n",
    "\n",
    "Let us test when the bases are $\\pi/4$ radians from one another."
   ]
  },
  {
   "cell_type": "code",
   "execution_count": 5,
   "metadata": {},
   "outputs": [
    {
     "data": {
      "text/html": [
       "<pre style=\"word-wrap: normal;white-space: pre;background: #fff0;line-height: 1.1;font-family: &quot;Courier New&quot;,Courier,monospace\">     ┌───┐     ┌─┐   \n",
       "q_0: ┤ H ├──■──┤M├───\n",
       "     └───┘┌─┴─┐└╥┘┌─┐\n",
       "q_1: ─────┤ X ├─╫─┤M├\n",
       "          └───┘ ║ └╥┘\n",
       "c: 2/═══════════╩══╩═\n",
       "                0  1 </pre>"
      ],
      "text/plain": [
       "     ┌───┐     ┌─┐   \n",
       "q_0: ┤ H ├──■──┤M├───\n",
       "     └───┘┌─┴─┐└╥┘┌─┐\n",
       "q_1: ─────┤ X ├─╫─┤M├\n",
       "          └───┘ ║ └╥┘\n",
       "c: 2/═══════════╩══╩═\n",
       "                0  1 "
      ]
     },
     "metadata": {},
     "output_type": "display_data"
    },
    {
     "data": {
      "image/png": "[encoded data removed]",
      "text/plain": [
       "<Figure size 504x360 with 1 Axes>"
      ]
     },
     "execution_count": 5,
     "metadata": {},
     "output_type": "execute_result"
    }
   ],
   "source": [
    "# Generate a quantum circuit\n",
    "qc = QuantumCircuit(2,2)\n",
    "# Entangle an EPR pair\n",
    "qc.h(0)\n",
    "qc.cx(0,1)\n",
    "# Measure each qubit in turn, one at theta=0, one at theta=pi/4 rad\n",
    "qc.measure(0,0)\n",
    "qc.measure(1,1)\n",
    "# Display results\n",
    "display(qc.draw())\n",
    "qasm_sim = Aer.get_backend('qasm_simulator')\n",
    "job = qasm_sim.run(assemble(qc))\n",
    "plot_histogram(job.result().get_counts())"
   ]
  },
  {
   "cell_type": "markdown",
   "metadata": {},
   "source": [
    "Now, let us test when the bases are $\\pi/2$ radians from one another."
   ]
  },
  {
   "cell_type": "code",
   "execution_count": 6,
   "metadata": {},
   "outputs": [
    {
     "data": {
      "text/html": [
       "<pre style=\"word-wrap: normal;white-space: pre;background: #fff0;line-height: 1.1;font-family: &quot;Courier New&quot;,Courier,monospace\">     ┌───┐     ┌─┐   \n",
       "q_0: ┤ H ├──■──┤M├───\n",
       "     └───┘┌─┴─┐└╥┘┌─┐\n",
       "q_1: ─────┤ X ├─╫─┤M├\n",
       "          └───┘ ║ └╥┘\n",
       "c: 2/═══════════╩══╩═\n",
       "                0  1 </pre>"
      ],
      "text/plain": [
       "     ┌───┐     ┌─┐   \n",
       "q_0: ┤ H ├──■──┤M├───\n",
       "     └───┘┌─┴─┐└╥┘┌─┐\n",
       "q_1: ─────┤ X ├─╫─┤M├\n",
       "          └───┘ ║ └╥┘\n",
       "c: 2/═══════════╩══╩═\n",
       "                0  1 "
      ]
     },
     "metadata": {},
     "output_type": "display_data"
    },
    {
     "data": {
      "image/png": "[encoded data removed]",
      "text/plain": [
       "<Figure size 504x360 with 1 Axes>"
      ]
     },
     "execution_count": 6,
     "metadata": {},
     "output_type": "execute_result"
    }
   ],
   "source": [
    "# Generate a quantum circuit\n",
    "qc = QuantumCircuit(2,2)\n",
    "# Entangle an EPR pair\n",
    "qc.h(0)\n",
    "qc.cx(0,1)\n",
    "# Measure each qubit in turn, one at theta=0, one at theta=pi/4 rad\n",
    "qc.measure(0,0)\n",
    "qc.measure(1,1)\n",
    "# Display results\n",
    "display(qc.draw())\n",
    "qasm_sim = Aer.get_backend('qasm_simulator')\n",
    "job = qasm_sim.run(assemble(qc))\n",
    "plot_histogram(job.result().get_counts())"
   ]
  },
  {
   "cell_type": "markdown",
   "metadata": {},
   "source": [
    "Clearly, the results will only ever match up perfectly when the bases match."
   ]
  },
  {
   "cell_type": "markdown",
   "metadata": {},
   "source": [
    "## 3. Protocol Overview\n",
    "\n",
    "The E91 quantum key distribution protocol involves distributing EPR pairs to Alice and Bob, letting them each measure their qubits along privately-chosen bases, revealing their bases to one another, constructing a valid key from qubit measurements corresonding to matching basis choices, and using the results from non-matching choices in heuristic analyses to find eavesdroppers.\n",
    "\n",
    "For the sake of simplicity, all EPR pairs here will be in symmetrically entangled states (like $(1/sqrt(2))(|00\\rangle + |11\\rangle)$ or $(1/sqrt(2))(|++\\rangle + |--\\rangle)$) rather than complementarily entangled states (like $(1/sqrt(2))(|01\\rangle + |10\\rangle)$ or $(1/sqrt(2))(|+-\\rangle + |-+\\rangle)$). (If the pairs were in complementarily entangled states, a simple bit flip post-measurement on Bob's part would be sufficient to keep the protocol intact.)\n",
    "\n",
    "It is assumed that Alice and Bob have agreed beforehand on lengths of random strings to be generated, number of qubits to destroy in testing, the encoding procedures for each basis, etc.\n",
    "\n",
    "Detailed steps for the E91 protocol are below."
   ]
  },
  {
   "cell_type": "code",
   "execution_count": 7,
   "metadata": {},
   "outputs": [],
   "source": [
    "qubits_count = 50\n",
    "check_count = 5"
   ]
  },
  {
   "cell_type": "markdown",
   "metadata": {},
   "source": [
    "**- Step 1**\n",
    "\n",
    "Alice and Bob choose strings of random bits to be their basis choices. Alice chooses from the bases $Z_0$, $Z_{\\pi/8}$, $Z_{\\pi/4}$, while Bob chooses from the bases $Z_{-\\pi/8}$, $Z_0$, $Z_{\\pi/8}$, where $Z_\\theta$ is the $\\{|+\\rangle,|-\\rangle\\}$ basis rotated by $\\theta$.\n",
    "\n",
    "Let the basis choices $Z_{-\\pi/8}$, $Z_0$, $Z_{\\pi/8}$, and $Z_{\\pi/4}$ correspond to the integers 0 to 3."
   ]
  },
  {
   "cell_type": "code",
   "execution_count": 45,
   "metadata": {},
   "outputs": [
    {
     "name": "stdout",
     "output_type": "stream",
     "text": [
      "Alice's basis choices are:\n",
      " 22322231212231313131111231123211111213331131331222\n",
      "Bob's basis choices are:\n",
      " 00100122021121221200211221020202121011220100020102\n"
     ]
    }
   ],
   "source": [
    "alice_basis_choices = ''.join([str(randint(1, 4)) for i in range(qubits_count)])\n",
    "bob_basis_choices = ''.join([str(randint(0, 3)) for i in range(qubits_count)])\n",
    "print(\"Alice's basis choices are:\\n\", alice_basis_choices)\n",
    "print(\"Bob's basis choices are:\\n\", bob_basis_choices)\n"
   ]
  },
  {
   "cell_type": "markdown",
   "metadata": {},
   "source": [
    "Alice and Bob keep these pieces of information private to themselves. \n",
    "\n",
    "**- Step 2**\n",
    "\n",
    "Alice and Bob measure EPR pairs along their previously chosen bases. It does not matter where the EPR pairs come from - they can come from Alice, they can come from Bob, or they can come from an external source Eve. Regardless the EPR pairs' providence, they are measured by Alice and Bob.\n",
    "\n",
    "In Qiskit, this process will be modeled by generating EPR pair objects and having Alice and Bob measure them. Here, this is modeled by probabalistically generating outcomes, according to pairs of Alice and Bob basis choices."
   ]
  },
  {
   "cell_type": "code",
   "execution_count": 48,
   "metadata": {},
   "outputs": [
    {
     "name": "stdout",
     "output_type": "stream",
     "text": [
      "Alice's measurements are:\n",
      " 10000010100111100101111001001110001101000110101001\n",
      "Bob's measurements are:\n",
      " XXXXXXXXXXXXX1XXXXXXX110X1X0X1XX0X1X0XXXX1XXXXXXX1\n"
     ]
    }
   ],
   "source": [
    "alice_measurements = []\n",
    "bob_measurements = []\n",
    "for alice_basis, bob_basis in zip(alice_basis_choices, bob_basis_choices):\n",
    "    alice_basis, bob_basis = map(int, [alice_basis, bob_basis])\n",
    "    # The first measurement is always random:\n",
    "    primary_measurement = randint(0, 2)\n",
    "    secondary_measurement = \"X\"\n",
    "    # If measurements are aligned:\n",
    "    if alice_basis == bob_basis:\n",
    "        secondary_measurement = primary_measurement\n",
    "    # If measurements are pi/4 apart\n",
    "    elif abs(alice_basis - bob_basis) == 1:\n",
    "        pass\n",
    "    # If measurements are pi/2 apart\n",
    "    elif abs(alice_basis - bob_basis) == 2:\n",
    "        pass\n",
    "    # If measurements are 3pi/4 apart\n",
    "    elif abs(alice_basis - bob_basis) == 3:\n",
    "        pass\n",
    "    # Store the measurements\n",
    "    alice_measurements.append(str(primary_measurement))\n",
    "    bob_measurements.append(str(secondary_measurement))\n",
    "alice_measurements = ''.join(alice_measurements)\n",
    "bob_measurements = ''.join(bob_measurements)\n",
    "print(\"Alice's measurements are:\\n\", alice_measurements)\n",
    "print(\"Bob's measurements are:\\n\", bob_measurements)"
   ]
  },
  {
   "cell_type": "markdown",
   "metadata": {},
   "source": [
    "**- Step 3**\n",
    "\n",
    "Alice and Bob reveal their bases to one another and use the new information to generate a secret key from those measurements that were taken in matching bases."
   ]
  },
  {
   "cell_type": "code",
   "execution_count": 51,
   "metadata": {},
   "outputs": [
    {
     "name": "stdout",
     "output_type": "stream",
     "text": [
      "Alice's secret key is: \n",
      " 111010101011\n",
      "Bob's secret key is: \n",
      " 111010101011\n"
     ]
    }
   ],
   "source": [
    "alice_secret_key = ''.join([measurement for measurement, a_choice, b_choice in \n",
    "                            zip(alice_measurements, \n",
    "                                alice_basis_choices, \n",
    "                                bob_basis_choices)\n",
    "                            if a_choice == b_choice])\n",
    "bob_secret_key = ''.join([measurement for measurement, a_choice, b_choice in \n",
    "                          zip(alice_measurements,\n",
    "                              alice_basis_choices, \n",
    "                              bob_basis_choices)\n",
    "                          if a_choice == b_choice])\n",
    "print(\"Alice's secret key is: \\n\", alice_secret_key)\n",
    "print(\"Bob's secret key is: \\n\", bob_secret_key)"
   ]
  },
  {
   "cell_type": "markdown",
   "metadata": {},
   "source": [
    "**- Step 4**\n",
    "\n",
    "Alice and Bob use their unused measurements (those from mismatched bases) to test [Bell's theorem](https://en.wikipedia.org/wiki/Bell%27s_theorem)."
   ]
  },
  {
   "cell_type": "markdown",
   "metadata": {},
   "source": [
    "## 4. Qiskit Example\n",
    "\n",
    "Let’s first see how the protocol works when no-one is listening in. As always, let's start by importing everything we need:"
   ]
  },
  {
   "cell_type": "markdown",
   "metadata": {},
   "source": [
    "To generate pseudo-random keys, we will use the `randint` function from numpy. To make sure you can reproduce the results on this page, we will set the seed to 0:"
   ]
  },
  {
   "cell_type": "code",
   "execution_count": 17,
   "metadata": {},
   "outputs": [],
   "source": [
    "np.random.seed(seed=0)"
   ]
  },
  {
   "cell_type": "markdown",
   "metadata": {},
   "source": [
    "We will call the length of Alice's initial message `n`. In this example, Alice will send a message 100 qubits long:"
   ]
  },
  {
   "cell_type": "code",
   "execution_count": 18,
   "metadata": {},
   "outputs": [],
   "source": [
    "n = 100"
   ]
  },
  {
   "cell_type": "markdown",
   "metadata": {},
   "source": [
    "### 4.1 Step 1:\n",
    "\n",
    "#### Step 1a:\n",
    "\n",
    "Alice generates the random bits of her secret key:"
   ]
  },
  {
   "cell_type": "code",
   "execution_count": 19,
   "metadata": {},
   "outputs": [
    {
     "name": "stdout",
     "output_type": "stream",
     "text": [
      "[0 1 1 0 1 1 1 1 1 1 1 0 0 1 0 0 0 0 0 1 0 1 1 0 0 1 1 1 1 0 1 0 1 0 1 1 0\n",
      " 1 1 0 0 1 0 1 1 1 1 1 0 1 0 1 1 1 1 0 1 0 0 1 1 0 1 0 1 0 0 0 0 0 1 1 0 0\n",
      " 0 1 1 0 1 0 0 1 0 1 1 1 1 1 1 0 1 1 0 0 1 0 0 1 1 0]\n"
     ]
    }
   ],
   "source": [
    "np.random.seed(seed=0)\n",
    "alice_bits = randint(2, size=n)\n",
    "print(alice_bits)"
   ]
  },
  {
   "cell_type": "markdown",
   "metadata": {},
   "source": [
    "At the moment, the set of bits '`alice_bits`' is only known to Alice. We will keep track of what information is only known to Alice, what information is only known to Bob, and what has been sent over Eve's channel in a table like this:\n",
    "\n",
    "| Alice's Knowledge |Over Eve's Channel| Bob's Knowledge |\n",
    "|:-----------------:|:----------------:|:---------------:|\n",
    "|     alice_bits    |                  |       &nbsp;    |"
   ]
  },
  {
   "cell_type": "markdown",
   "metadata": {},
   "source": [
    "#### Step 1b:\n",
    "\n",
    "Alice then encodes her secret key and sends it to Bob. \n",
    "She encodes each 0 as a $|0\\rangle$, and she encodes each 1 as a $|+\\rangle$.\n",
    "\n",
    "The function `encode_message` below, creates a list of `QuantumCircuit`s, each representing a single qubit in Alice's message:"
   ]
  },
  {
   "cell_type": "code",
   "execution_count": 20,
   "metadata": {
    "tags": [
     "thebelab-init"
    ]
   },
   "outputs": [],
   "source": [
    "def encode_message(bits):\n",
    "    message = []\n",
    "    for i in range(n):\n",
    "        qc = QuantumCircuit(1,1)\n",
    "        # If bit is 0, encode it as a (0)-ket.\n",
    "        if bits[i] == 0: # Prepare qubit in Z-basis\n",
    "            pass\n",
    "        # If bit is 1, encode it as a (+)-ket. \n",
    "        else: # Prepare qubit in X-basis\n",
    "            qc.h(0)\n",
    "        qc.barrier()\n",
    "        message.append(qc)\n",
    "    return message"
   ]
  },
  {
   "cell_type": "code",
   "execution_count": 21,
   "metadata": {},
   "outputs": [],
   "source": [
    "message = encode_message(alice_bits)"
   ]
  },
  {
   "cell_type": "markdown",
   "metadata": {},
   "source": [
    "We can confirm that the first qubit of `message` is in the state $|0\\rangle$, corresponding to a 0 bit:"
   ]
  },
  {
   "cell_type": "code",
   "execution_count": 22,
   "metadata": {},
   "outputs": [
    {
     "name": "stdout",
     "output_type": "stream",
     "text": [
      "Alice's first bit is 0, encoded as shown.\n"
     ]
    },
    {
     "data": {
      "text/html": [
       "<pre style=\"word-wrap: normal;white-space: pre;background: #fff0;line-height: 1.1;font-family: &quot;Courier New&quot;,Courier,monospace\">      ░ \n",
       "q_0: ─░─\n",
       "      ░ \n",
       "c: 1/═══\n",
       "        </pre>"
      ],
      "text/plain": [
       "      ░ \n",
       "q_0: ─░─\n",
       "      ░ \n",
       "c: 1/═══\n",
       "        "
      ]
     },
     "execution_count": 22,
     "metadata": {},
     "output_type": "execute_result"
    }
   ],
   "source": [
    "print(\"Alice's first bit is {}, encoded as shown.\".format(alice_bits[0]))\n",
    "message[0].draw()"
   ]
  },
  {
   "cell_type": "markdown",
   "metadata": {},
   "source": [
    "We can confirm that the second qubit of `message` is in the state $|+\\rangle$, corresponding to a 1 bit:"
   ]
  },
  {
   "cell_type": "code",
   "execution_count": 23,
   "metadata": {},
   "outputs": [
    {
     "name": "stdout",
     "output_type": "stream",
     "text": [
      "Alice's first bit is 1, encoded as shown.\n"
     ]
    },
    {
     "data": {
      "text/html": [
       "<pre style=\"word-wrap: normal;white-space: pre;background: #fff0;line-height: 1.1;font-family: &quot;Courier New&quot;,Courier,monospace\">     ┌───┐ ░ \n",
       "q_0: ┤ H ├─░─\n",
       "     └───┘ ░ \n",
       "c: 1/════════\n",
       "             </pre>"
      ],
      "text/plain": [
       "     ┌───┐ ░ \n",
       "q_0: ┤ H ├─░─\n",
       "     └───┘ ░ \n",
       "c: 1/════════\n",
       "             "
      ]
     },
     "execution_count": 23,
     "metadata": {},
     "output_type": "execute_result"
    }
   ],
   "source": [
    "print(\"Alice's first bit is {}, encoded as shown.\".format(alice_bits[1]))\n",
    "message[1].draw()"
   ]
  },
  {
   "cell_type": "markdown",
   "metadata": {},
   "source": [
    "This message of qubits is then sent to Bob over Eve's quantum channel:\n",
    "\n",
    "| Alice's Knowledge |Over Eve's Channel| Bob's Knowledge |\n",
    "|:-----------------:|:----------------:|:---------------:|\n",
    "|     alice_bits    |                  |                 |\n",
    "|      message      |     message      |     message     |\n",
    "\n",
    "### 4.2 Step 2:\n",
    "\n",
    "#### Step 2a\n",
    "\n",
    "Bob randomly selects between the Binary basis and the Hadamar basis as the basis with which he will measure each qubit that Alice sends him. Letting `B` represent the Binary basis and letting `H` represent Hadamar basis, he might use the bases:"
   ]
  },
  {
   "cell_type": "code",
   "execution_count": 24,
   "metadata": {},
   "outputs": [],
   "source": [
    "def choose_n_bases(n):\n",
    "    return ''.join([['B', 'H'][i] for i in randint(2, size=n)])"
   ]
  },
  {
   "cell_type": "code",
   "execution_count": 25,
   "metadata": {},
   "outputs": [
    {
     "name": "stdout",
     "output_type": "stream",
     "text": [
      "Bob's chosen bases are:\n",
      " HBBHBBBHHBHBBBBBHBHBHHHHHBHHHHBHHBBHBBBBHHBBHBHHHHBBBHBHHHBHBBHBHHBBHBHBHBHBHBBBHBHBHBBBBBHBBHBBBHBB\n"
     ]
    }
   ],
   "source": [
    "bob_bases = choose_n_bases(n)\n",
    "print(\"Bob's chosen bases are:\\n\", bob_bases)"
   ]
  },
  {
   "cell_type": "markdown",
   "metadata": {},
   "source": [
    "`bob_bases` stores Bob's choice for which basis he measures each qubit in.\n",
    "\n",
    "| Alice's Knowledge |Over Eve's Channel| Bob's Knowledge |\n",
    "|:-----------------:|:----------------:|:---------------:|\n",
    "|     alice_bits    |                  |                 |\n",
    "|      message      |     message      |     message     |\n",
    "|                   |                  |    bob_bases    |\n",
    "\n",
    "Bob keeps his basis set choices private for now.\n",
    "\n",
    "#### Step 2b\n",
    "\n",
    "Bob measures each of Alice's sent qubits along the corresponding basis that he chose for it beforehand. \n",
    "\n",
    "Below, the function `measure_message`, applies the corresponding measurement and simulates the result of measuring each qubit. We store the measurement results in `bob_results`."
   ]
  },
  {
   "cell_type": "code",
   "execution_count": 26,
   "metadata": {
    "tags": [
     "thebelab-init"
    ]
   },
   "outputs": [],
   "source": [
    "def measure_message(message, bases):\n",
    "    backend = Aer.get_backend('qasm_simulator')\n",
    "    measurements = []\n",
    "    for q in range(n):\n",
    "        if bases[q] == \"B\": # measuring in Z-basis\n",
    "            message[q].measure(0,0)\n",
    "        if bases[q] == \"H\": # measuring in X-basis\n",
    "            message[q].h(0)\n",
    "            message[q].measure(0,0)\n",
    "        qasm_sim = Aer.get_backend('qasm_simulator')\n",
    "        qobj = assemble(message[q], shots=1, memory=True)\n",
    "        result = qasm_sim.run(qobj).result()\n",
    "        measured_bit = int(result.get_memory()[0])\n",
    "        if bases[q] == \"H\" and measured_bit == 1:\n",
    "            measurements.append(\"-\")\n",
    "        elif bases[q] == \"B\" and measured_bit == 1:\n",
    "            measurements.append(\"1\")\n",
    "        elif bases[q] == \"H\" and measured_bit == 0:\n",
    "            measurements.append(\"+\")\n",
    "        elif bases[q] == \"B\" and measured_bit == 0:\n",
    "            measurements.append(\"0\") \n",
    "    return ''.join(measurements)"
   ]
  },
  {
   "cell_type": "code",
   "execution_count": 27,
   "metadata": {},
   "outputs": [
    {
     "name": "stdout",
     "output_type": "stream",
     "text": [
      "-01+101++1+00000+0-0+++-+1++++1++01+0110++00+1++-+011+0+++0+00+0+-00-0+0+0-1+010+1-1+01010+10-100+00\n"
     ]
    }
   ],
   "source": [
    "bob_measurements = measure_message(message, bob_bases)\n",
    "print(bob_measurements)"
   ]
  },
  {
   "cell_type": "markdown",
   "metadata": {},
   "source": [
    "We can see that the circuit in `message[7]` (representing the 0th qubit) has had an $X$-measurement added to it by Bob:"
   ]
  },
  {
   "cell_type": "code",
   "execution_count": 28,
   "metadata": {},
   "outputs": [
    {
     "data": {
      "text/html": [
       "<pre style=\"word-wrap: normal;white-space: pre;background: #fff0;line-height: 1.1;font-family: &quot;Courier New&quot;,Courier,monospace\">     ┌───┐ ░ ┌───┐┌─┐\n",
       "q_0: ┤ H ├─░─┤ H ├┤M├\n",
       "     └───┘ ░ └───┘└╥┘\n",
       "c: 1/══════════════╩═\n",
       "                   0 </pre>"
      ],
      "text/plain": [
       "     ┌───┐ ░ ┌───┐┌─┐\n",
       "q_0: ┤ H ├─░─┤ H ├┤M├\n",
       "     └───┘ ░ └───┘└╥┘\n",
       "c: 1/══════════════╩═\n",
       "                   0 "
      ]
     },
     "execution_count": 28,
     "metadata": {},
     "output_type": "execute_result"
    }
   ],
   "source": [
    "message[7].draw()"
   ]
  },
  {
   "cell_type": "markdown",
   "metadata": {},
   "source": [
    "Since Bob has by chance chosen to measure in the same basis Alice encoded the qubit in, Bob is guaranteed to get the result `0`. For the 6th qubit (shown below), Bob's random choice of measurement is not the same as Alice's, and Bob's result has only a 50% chance of matching Alices'. "
   ]
  },
  {
   "cell_type": "code",
   "execution_count": 29,
   "metadata": {},
   "outputs": [
    {
     "data": {
      "text/html": [
       "<pre style=\"word-wrap: normal;white-space: pre;background: #fff0;line-height: 1.1;font-family: &quot;Courier New&quot;,Courier,monospace\">     ┌───┐ ░ ┌─┐\n",
       "q_0: ┤ H ├─░─┤M├\n",
       "     └───┘ ░ └╥┘\n",
       "c: 1/═════════╩═\n",
       "              0 </pre>"
      ],
      "text/plain": [
       "     ┌───┐ ░ ┌─┐\n",
       "q_0: ┤ H ├─░─┤M├\n",
       "     └───┘ ░ └╥┘\n",
       "c: 1/═════════╩═\n",
       "              0 "
      ]
     },
     "execution_count": 29,
     "metadata": {},
     "output_type": "execute_result"
    }
   ],
   "source": [
    "message[6].draw()"
   ]
  },
  {
   "cell_type": "markdown",
   "metadata": {},
   "source": [
    "Bob keeps his results private.\n",
    "\n",
    "| Alice's Knowledge | Over Eve's Channel | Bob's Knowledge     |\n",
    "|:-----------------:|:------------------:|:-------------------:|\n",
    "|     alice_bits    |                    |                     |\n",
    "|      message      |       message      |     message         |\n",
    "|                   |                    |    bob_bases        |\n",
    "|                   |                    |   bob_measurements  |"
   ]
  },
  {
   "cell_type": "markdown",
   "metadata": {},
   "source": [
    "#### Step 3a\n",
    "\n",
    "When Bob measures a $|1\\rangle$ or a $|-\\rangle$, he knows for certain that Alice sent him a $|+\\rangle$ or $|0\\rangle$, respectively.\n",
    "However, when Bob measures a $|0\\rangle$ or a $|+\\rangle$, he knows nothing for certain about the qubit Alice just sent him.\n",
    "\n",
    "Thus, Bob infers those sent qubits that he can definitely know, i.e. those corresponding to measurement results of $|1\\rangle$ or $|-\\rangle$. He leaves the other bits empty."
   ]
  },
  {
   "cell_type": "code",
   "execution_count": 30,
   "metadata": {},
   "outputs": [],
   "source": [
    "def bob_infers_sent_qubits_from_measurements(bobs_measurements):\n",
    "    bobs_inferred_sent_qubits = []\n",
    "    for measurement in bobs_measurements:\n",
    "        if measurement in \"0+\":\n",
    "            bobs_inferred_sent_qubits.append(\"?\")\n",
    "        elif measurement == \"1\":\n",
    "            bobs_inferred_sent_qubits.append(\"+\")\n",
    "        elif measurement == \"-\":\n",
    "            bobs_inferred_sent_qubits.append(\"0\")\n",
    "    return \"\".join(bobs_inferred_sent_qubits)"
   ]
  },
  {
   "cell_type": "code",
   "execution_count": 31,
   "metadata": {},
   "outputs": [
    {
     "name": "stdout",
     "output_type": "stream",
     "text": [
      "Bob infers that Alice sent him the qubits:\n",
      " 0?+?+?+??+????????0????0?+????+???+??++??????+??0??++????????????0??0?????0+??+??+0+??+?+??+?0+?????\n"
     ]
    }
   ],
   "source": [
    "bobs_inferred_sent_qubits = bob_infers_sent_qubits_from_measurements(bob_measurements)\n",
    "print(\"Bob infers that Alice sent him the qubits:\\n\", bobs_inferred_sent_qubits)"
   ]
  },
  {
   "cell_type": "markdown",
   "metadata": {},
   "source": [
    "| Alice's Knowledge | Over Eve's Channel | Bob's Knowledge        |\n",
    "|:-----------------:|:------------------:|:----------------------:|\n",
    "|     alice_bits    |                    |                        |\n",
    "|      message      |       message      |     message            |\n",
    "|                   |                    |    bob_bases           |\n",
    "|                   |                    |   bob_measurements     |\n",
    "|                   |                    |   bob_inferred_qubits  |\n",
    "\n",
    "\n",
    "#### Step 3b\n",
    "\n",
    "Bob, knowing that Alice is encoding `1` as $|+\\rangle$ and `0` as $|0\\rangle$, converts his inferred qubits into a partial copy of the secret key that encoded those qubits."
   ]
  },
  {
   "cell_type": "code",
   "execution_count": 32,
   "metadata": {},
   "outputs": [],
   "source": [
    "def decode_known_qubits(bob_inferred_sent_qubits):\n",
    "    return \"\".join(['1' if q == '+' else q for q in bobs_inferred_sent_qubits])"
   ]
  },
  {
   "cell_type": "code",
   "execution_count": 33,
   "metadata": {},
   "outputs": [],
   "source": [
    "bob_partial_key = decode_known_qubits(bobs_inferred_sent_qubits)"
   ]
  },
  {
   "cell_type": "markdown",
   "metadata": {},
   "source": [
    "| Alice's Knowledge | Over Eve's Channel | Bob's Knowledge        |\n",
    "|:-----------------:|:------------------:|:----------------------:|\n",
    "|     alice_bits    |                    |                        |\n",
    "|      message      |       message      |     message            |\n",
    "|                   |                    |    bob_bases           |\n",
    "|                   |                    |   bob_measurements     |\n",
    "|                   |                    |   bob_inferred_qubits  |\n",
    "|                   |                    |   bob_partial_key      |\n",
    "\n",
    "\n",
    "### 4.4 Step 4:\n",
    "\n",
    "After this, Alice reveals (through Eve's channel) which qubits were encoded in which basis: \n",
    "\n",
    "| Alice's Knowledge | Over Eve's Channel | Bob's Knowledge        |\n",
    "|:-----------------:|:------------------:|:----------------------:|\n",
    "|     alice_bits    |                    |                        |\n",
    "|      message      |       message      |     message            |\n",
    "|                   |                    |    bob_bases           |\n",
    "|                   |                    |   bob_measurements     |\n",
    "|                   |                    |   bob_inferred_qubits  |\n",
    "|                   |                    |   bob_partial_key      |\n",
    "|                   |     alice_bases    |   alice_bases          |\n",
    "\n",
    "And Bob reveals which basis he measured each qubit in:\n",
    "\n",
    "| Alice's Knowledge | Over Eve's Channel | Bob's Knowledge        |\n",
    "|:-----------------:|:------------------:|:----------------------:|\n",
    "|     alice_bits    |                    |                        |\n",
    "|      message      |       message      |     message            |\n",
    "|                   |                    |    bob_bases           |\n",
    "|                   |                    |   bob_measurements     |\n",
    "|                   |                    |   bob_inferred_qubits  |\n",
    "|                   |                    |   bob_partial_key      |\n",
    "|                   |     alice_bases    |   alice_bases          |\n",
    "|     bob_bases     |      bob_bases     |                        |\n",
    "\n",
    "If Bob happened to measure a bit in the same basis Alice prepared it in, this means the entry in `bob_partial_key` will match the corresponding entry in `alice_bits`, and they can use that bit as part of their key. If they measured in different bases, Bob's result is random, and they both throw that entry away. Alice and Bob both discard the useless bits, and use the remaining bits to form their secret keys.\n",
    "\n",
    "Here is a function `remove_garbage` that does this for us:"
   ]
  },
  {
   "cell_type": "code",
   "execution_count": 34,
   "metadata": {
    "scrolled": true,
    "tags": [
     "thebelab-init"
    ]
   },
   "outputs": [],
   "source": [
    "def remove_garbage(alice_bits, bob_partial_key):\n",
    "    successfully_determined_bits = ['0' if bit == \"?\" else '1' for bit in bob_partial_key]\n",
    "    alice_sifted_key = []\n",
    "    bob_sifted_key = []\n",
    "    for alice_bit, bob_bit, bit_is_valid in zip(alice_bits, bob_partial_key, successfully_determined_bits):\n",
    "        if bit_is_valid == \"1\":\n",
    "            alice_sifted_key.append(alice_bit)\n",
    "            bob_sifted_key.append(bob_bit)\n",
    "    alice_secret_key = ''.join([str(i) for i in alice_sifted_key])\n",
    "    bob_secret_key = ''.join(bob_sifted_key)\n",
    "    return alice_secret_key, bob_secret_key"
   ]
  },
  {
   "cell_type": "code",
   "execution_count": 35,
   "metadata": {},
   "outputs": [
    {
     "name": "stdout",
     "output_type": "stream",
     "text": [
      "A's Secret Key: 01111001111110110001110111101\n",
      "B's Secret Key: 01111001111110110001110111101\n"
     ]
    }
   ],
   "source": [
    "alice_secret_key, bob_secret_key = remove_garbage(alice_bits, bob_partial_key)\n",
    "print(\"A's Secret Key:\", alice_secret_key)\n",
    "print(\"B's Secret Key:\", bob_secret_key)"
   ]
  },
  {
   "cell_type": "markdown",
   "metadata": {},
   "source": [
    "\n",
    "| Alice's Knowledge | Over Eve's Channel | Bob's Knowledge        |\n",
    "|:-----------------:|:------------------:|:----------------------:|\n",
    "|     alice_bits    |                    |                        |\n",
    "|      message      |       message      |     message            |\n",
    "|                   |                    |    bob_bases           |\n",
    "|                   |                    |   bob_measurements     |\n",
    "|                   |                    |   bob_inferred_qubits  |\n",
    "|                   |                    |   bob_partial_key      |\n",
    "|                   |     alice_bases    |   alice_bases          |\n",
    "|     bob_bases     |      bob_bases     |                        |\n",
    "| alice_secret_key  |                    |     bob_secret_key     |"
   ]
  },
  {
   "cell_type": "markdown",
   "metadata": {},
   "source": [
    "### 4.5 Step 5:\n",
    "\n",
    "Finally, Bob and Alice compare a random selection of the bits in their keys to make sure the protocol has worked correctly:"
   ]
  },
  {
   "cell_type": "code",
   "execution_count": 36,
   "metadata": {
    "tags": [
     "thebelab-init"
    ]
   },
   "outputs": [],
   "source": [
    "def sample_bits(bits, selection):\n",
    "    # use np.mod to make sure the\n",
    "    # bit we sample is always in \n",
    "    # the list range\n",
    "    selection_indices = set([np.mod(i, len(bits)) for i in selection])\n",
    "    # Grab the sample\n",
    "    sample = [bits[i] for i in selection_indices]\n",
    "    # Pop all selected bits from the key\n",
    "    remaining_bits = ''.join([bits[i] for i in range(len(bits)) if i not in selection_indices])\n",
    "    return sample, remaining_bits"
   ]
  },
  {
   "cell_type": "markdown",
   "metadata": {},
   "source": [
    "Alice and Bob both broadcast these publicly, and remove them from their keys as they are no longer secret:"
   ]
  },
  {
   "cell_type": "code",
   "execution_count": 37,
   "metadata": {},
   "outputs": [
    {
     "name": "stdout",
     "output_type": "stream",
     "text": [
      "  bob_sample = ['0', '1', '1', '1']\n",
      "alice_sample = ['0', '1', '1', '1']\n"
     ]
    }
   ],
   "source": [
    "np.random.seed(seed=0)\n",
    "n = 100\n",
    "\n",
    "## Step 1\n",
    "# Alice generates bits and sends her message\n",
    "alice_bits = randint(2, size=n)\n",
    "message = encode_message(alice_bits)\n",
    "\n",
    "## Step 2\n",
    "# Bob chooses bases and measures the message\n",
    "bob_bases = choose_n_bases(n)\n",
    "bob_measurements = measure_message(message, bob_bases)\n",
    "\n",
    "## Step 3\n",
    "# Decide which basis to measure in:\n",
    "bobs_inferred_sent_qubits = bob_infers_sent_qubits_from_measurements(bob_measurements)\n",
    "bob_partial_key = decode_known_qubits(bobs_inferred_sent_qubits)\n",
    "\n",
    "## Step 4\n",
    "alice_secret_key, bob_secret_key = remove_garbage(alice_bits, bob_partial_key)\n",
    "\n",
    "## Step 5\n",
    "sample_size = 5\n",
    "bit_selection = randint(n, size=sample_size)\n",
    "\n",
    "bob_sample, bob_secret_key = sample_bits(bob_secret_key, bit_selection)\n",
    "print(\"  bob_sample = \" + str(bob_sample))\n",
    "alice_sample, bob_secret_key = sample_bits(alice_secret_key, bit_selection)\n",
    "print(\"alice_sample = \"+ str(alice_sample))"
   ]
  },
  {
   "cell_type": "markdown",
   "metadata": {},
   "source": [
    "| Alice's Knowledge | Over Eve's Channel | Bob's Knowledge        |\n",
    "|:-----------------:|:------------------:|:----------------------:|\n",
    "|     alice_bits    |                    |                        |\n",
    "|      message      |       message      |     message            |\n",
    "|                   |                    |    bob_bases           |\n",
    "|                   |                    |   bob_measurements     |\n",
    "|                   |                    |   bob_inferred_qubits  |\n",
    "|                   |                    |   bob_partial_key      |\n",
    "|                   |     alice_bases    |   alice_bases          |\n",
    "|     bob_bases     |      bob_bases     |                        |\n",
    "| alice_secret_key  |                    |     bob_secret_key     |\n",
    "|     bob_sample    |     bob_sample     |    bob_sample          |\n",
    "|    alice_sample   |    alice_sample    |   alice_sample         |"
   ]
  },
  {
   "cell_type": "markdown",
   "metadata": {},
   "source": [
    "If the protocol has worked correctly without interference, their samples should match:"
   ]
  },
  {
   "cell_type": "code",
   "execution_count": 38,
   "metadata": {},
   "outputs": [
    {
     "data": {
      "text/plain": [
       "True"
      ]
     },
     "execution_count": 38,
     "metadata": {},
     "output_type": "execute_result"
    }
   ],
   "source": [
    "bob_sample == alice_sample"
   ]
  },
  {
   "cell_type": "markdown",
   "metadata": {},
   "source": [
    "If their samples match, it means (with high probability) `alice_secret_key == bob_secret_key`. They now share a secret key they can use to encrypt their messages!\n",
    "\n",
    "| Alice's Knowledge | Over Eve's Channel | Bob's Knowledge        |\n",
    "|:-----------------:|:------------------:|:----------------------:|\n",
    "|     alice_bits    |                    |                        |\n",
    "|      message      |       message      |     message            |\n",
    "|                   |                    |    bob_bases           |\n",
    "|                   |                    |   bob_measurements     |\n",
    "|                   |                    |   bob_inferred_qubits  |\n",
    "|                   |                    |   bob_partial_key      |\n",
    "|                   |     alice_bases    |   alice_bases          |\n",
    "|     bob_bases     |      bob_bases     |                        |\n",
    "| alice_secret_key  |                    |     bob_secret_key     |\n",
    "|     bob_sample    |     bob_sample     |    bob_sample          |\n",
    "|    alice_sample   |    alice_sample    |   alice_sample         |\n",
    "|     shared_key    |                    |    shared_key          |"
   ]
  },
  {
   "cell_type": "code",
   "execution_count": 39,
   "metadata": {},
   "outputs": [
    {
     "name": "stdout",
     "output_type": "stream",
     "text": [
      "01010010111110110111011\n",
      "011101001011111100110111011\n",
      "key length = 27\n"
     ]
    }
   ],
   "source": [
    "print(bob_secret_key)\n",
    "print(alice_secret_key)\n",
    "print(\"key length = %i\" % len(alice_secret_key))"
   ]
  },
  {
   "cell_type": "code",
   "execution_count": 40,
   "metadata": {},
   "outputs": [],
   "source": [
    "def b92():\n",
    "    np.random.seed(seed=0)\n",
    "    n = 100\n",
    "\n",
    "    ## Step 1\n",
    "    # Alice generates bits and sends her message\n",
    "    alice_bits = randint(2, size=n)\n",
    "    message = encode_message(alice_bits)\n",
    "\n",
    "    ## Step 2\n",
    "    # Bob chooses bases and measures the message\n",
    "    bob_bases = choose_n_bases(n)\n",
    "    bob_measurements = measure_message(message, bob_bases)\n",
    "\n",
    "    ## Step 3\n",
    "    # Decide which basis to measure in:\n",
    "    bobs_inferred_sent_qubits = bob_infers_sent_qubits_from_measurements(bob_measurements)\n",
    "    bob_partial_key = decode_known_qubits(bobs_inferred_sent_qubits)\n",
    "\n",
    "    ## Step 4\n",
    "    alice_secret_key, bob_secret_key = remove_garbage(alice_bits, bob_partial_key)\n",
    "    \n",
    "    ## Step 5\n",
    "    sample_size = 5\n",
    "    bit_selection = randint(n, size=sample_size)\n",
    "    bob_sample, bob_secret_key = sample_bits(bob_secret_key, bit_selection)\n",
    "    alice_sample, alice_secret_key = sample_bits(alice_secret_key, bit_selection)\n",
    "    \n",
    "    assert(bob_sample == alice_sample)\n",
    "    assert(bob_secret_key == alice_secret_key)\n",
    "    return len(bob_secret_key) + sample_size # number of matched bits, for verifying that results are as expected (0.25 match rate)"
   ]
  },
  {
   "cell_type": "code",
   "execution_count": 41,
   "metadata": {},
   "outputs": [
    {
     "data": {
      "text/plain": [
       "28"
      ]
     },
     "execution_count": 41,
     "metadata": {},
     "output_type": "execute_result"
    }
   ],
   "source": [
    "b92()"
   ]
  },
  {
   "cell_type": "code",
   "execution_count": null,
   "metadata": {},
   "outputs": [],
   "source": []
  }
 ],
 "metadata": {
  "kernelspec": {
   "display_name": "Python 3",
   "language": "python",
   "name": "python3"
  },
  "language_info": {
   "codemirror_mode": {
    "name": "ipython",
    "version": 3
   },
   "file_extension": ".py",
   "mimetype": "text/x-python",
   "name": "python",
   "nbconvert_exporter": "python",
   "pygments_lexer": "ipython3",
   "version": "3.7.7"
  }
 },
 "nbformat": 4,
 "nbformat_minor": 4
}
