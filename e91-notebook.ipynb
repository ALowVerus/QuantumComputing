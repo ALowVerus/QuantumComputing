{
 "cells": [
  {
   "cell_type": "markdown",
   "metadata": {
    "tags": [
     "remove_cell"
    ]
   },
   "source": [
    "# Quantum Key Distribution - E91"
   ]
  },
  {
   "cell_type": "code",
   "execution_count": 1,
   "metadata": {},
   "outputs": [
    {
     "name": "stdout",
     "output_type": "stream",
     "text": [
      "Imports Successful\n"
     ]
    }
   ],
   "source": [
    "from qiskit import QuantumCircuit, QuantumRegister, Aer, transpile, assemble\n",
    "from qiskit.visualization import plot_histogram, plot_bloch_multivector\n",
    "from numpy.random import randint, choice, random\n",
    "import numpy as np\n",
    "import math\n",
    "from math import pi\n",
    "import matplotlib.pyplot as plt\n",
    "print(\"Imports Successful\")"
   ]
  },
  {
   "cell_type": "markdown",
   "metadata": {},
   "source": [
    "Original code, which explained the BB84 protocol, sourced from: \n",
    "\n",
    "https://qiskit.org/textbook/ch-algorithms/quantum-key-distribution.html\n",
    "\n",
    "More Qiskit documentation:\n",
    "\n",
    "https://qiskit.org/documentation/tutorials/circuits/3_summary_of_quantum_operations.html\n",
    "\n",
    "A relevant discussion of E91: \n",
    "\n",
    "https://en.wikipedia.org/wiki/Quantum_key_distribution#E91_protocol:_Artur_Ekert_.281991.29\n",
    "\n",
    "A listing of available Qiskit gates:\n",
    "\n",
    "https://qiskit.org/textbook/ch-states/single-qubit-gates.html#1.2-The-Y-&-Z-gates--\n",
    "\n",
    "A video on the CHSH inequality, which is pertinent to why E91 is useful:\n",
    "\n",
    "https://www.youtube.com/watch?v=sUQYSy6C1aA"
   ]
  },
  {
   "cell_type": "markdown",
   "metadata": {
    "tags": [
     "contents"
    ]
   },
   "source": [
    "## Contents\n",
    "\n",
    "1. Introduction\n",
    "2. Theory Demonstration\n",
    "3. Protocol Overview\n",
    "4. Qiskit Example\n",
    "5. Simplified Complete Qiskit Example"
   ]
  },
  {
   "cell_type": "markdown",
   "metadata": {},
   "source": [
    "## 1. Introduction\n",
    "\n",
    "When Alice and Bob want to communicate a secret message (such as Bob’s online banking details) over an insecure channel (such as the internet), its essential to encrypt the message. Since cryptography is a large area and almost all of it is outside the scope of this textbook, we will have to believe that Alice and Bob having a secret key that no-one else knows is useful and allows them to communicate using symmetric-key cryptography.\n",
    "\n",
    "If Alice and Bob want to use Eve’s classical communication channel to share their key, it is impossible to tell if Eve has made a copy of this key for herself- they must place complete trust in Eve that she is not listening. If, however, Eve provides a quantum communication channel, Alice and Bob no longer need to trust Eve at all- they will know if she tries to read Bob’s message before it gets to Alice.\n",
    "\n",
    "For some readers, it may be useful to give an idea of how a quantum channel may be physically implemented. An example of a classical channel could be a telephone line; we send electric signals through the line that represent our message (or bits). A proposed example of a quantum communication channel could be some kind of fibre-optic cable, through which we can send individual photons (particles of light). Photons have a property called _polarisation,_ and this polarisation can be one of two states. We can use this to represent a qubit.\n",
    "\n",
    "\n",
    "## 2. Theory Demonstration\n",
    "\n",
    "The protocol makes use of the fact that measuring a qubit can change its state. If Alice sends Bob a qubit, and an eavesdropper (Eve) tries to measure it before Bob does, there is a chance that Eve’s measurement will change the state of the qubit and Bob will not receive the qubit state Alice sent.  "
   ]
  },
  {
   "cell_type": "code",
   "execution_count": 2,
   "metadata": {
    "scrolled": true,
    "tags": [
     "thebelab-init"
    ]
   },
   "outputs": [
    {
     "name": "stdout",
     "output_type": "stream",
     "text": [
      "Imports Successful\n"
     ]
    }
   ],
   "source": [
    "from qiskit import QuantumCircuit, Aer, transpile, assemble\n",
    "from qiskit.visualization import plot_histogram, plot_bloch_multivector\n",
    "from numpy.random import randint, choice\n",
    "import numpy as np\n",
    "print(\"Imports Successful\")"
   ]
  },
  {
   "cell_type": "markdown",
   "metadata": {},
   "source": [
    "If Alice prepares a qubit in the state $|+\\rangle$ (`0` in the X-basis), and Bob measures it in the X-basis, Bob is sure to measure `0`:"
   ]
  },
  {
   "cell_type": "code",
   "execution_count": 3,
   "metadata": {},
   "outputs": [
    {
     "data": {
      "text/html": [
       "<pre style=\"word-wrap: normal;white-space: pre;background: #fff0;line-height: 1.1;font-family: &quot;Courier New&quot;,Courier,monospace\">     ┌───┐ ░ ┌───┐┌─┐\n",
       "q_0: ┤ H ├─░─┤ H ├┤M├\n",
       "     └───┘ ░ └───┘└╥┘\n",
       "c: 1/══════════════╩═\n",
       "                   0 </pre>"
      ],
      "text/plain": [
       "     ┌───┐ ░ ┌───┐┌─┐\n",
       "q_0: ┤ H ├─░─┤ H ├┤M├\n",
       "     └───┘ ░ └───┘└╥┘\n",
       "c: 1/══════════════╩═\n",
       "                   0 "
      ]
     },
     "metadata": {},
     "output_type": "display_data"
    },
    {
     "data": {
      "image/png": "[encoded data removed]",
      "text/plain": [
       "<Figure size 504x360 with 1 Axes>"
      ]
     },
     "execution_count": 3,
     "metadata": {},
     "output_type": "execute_result"
    }
   ],
   "source": [
    "qc = QuantumCircuit(1,1)\n",
    "# Alice prepares qubit in state |+>\n",
    "qc.h(0)\n",
    "qc.barrier()\n",
    "# Alice now sends the qubit to Bob\n",
    "# who measures it in the X-basis\n",
    "qc.h(0)\n",
    "qc.measure(0,0)\n",
    "\n",
    "# Draw and simulate circuit\n",
    "display(qc.draw())\n",
    "qasm_sim = Aer.get_backend('qasm_simulator')\n",
    "job = qasm_sim.run(assemble(qc))\n",
    "plot_histogram(job.result().get_counts())"
   ]
  },
  {
   "cell_type": "markdown",
   "metadata": {},
   "source": [
    "But if Eve tries to measure this qubit in the Z-basis before it reaches Bob, she will change the qubit's state from $|+\\rangle$ to either $|0\\rangle$ or $|1\\rangle$, and Bob is no longer certain to measure `0`:"
   ]
  },
  {
   "cell_type": "code",
   "execution_count": 4,
   "metadata": {},
   "outputs": [
    {
     "data": {
      "text/html": [
       "<pre style=\"word-wrap: normal;white-space: pre;background: #fff0;line-height: 1.1;font-family: &quot;Courier New&quot;,Courier,monospace\">     ┌───┐┌─┐ ░ ┌───┐┌─┐\n",
       "q_0: ┤ H ├┤M├─░─┤ H ├┤M├\n",
       "     └───┘└╥┘ ░ └───┘└╥┘\n",
       "c: 1/══════╩══════════╩═\n",
       "           0          0 </pre>"
      ],
      "text/plain": [
       "     ┌───┐┌─┐ ░ ┌───┐┌─┐\n",
       "q_0: ┤ H ├┤M├─░─┤ H ├┤M├\n",
       "     └───┘└╥┘ ░ └───┘└╥┘\n",
       "c: 1/══════╩══════════╩═\n",
       "           0          0 "
      ]
     },
     "metadata": {},
     "output_type": "display_data"
    },
    {
     "data": {
      "image/png": "[encoded data removed]",
      "text/plain": [
       "<Figure size 504x360 with 1 Axes>"
      ]
     },
     "execution_count": 4,
     "metadata": {},
     "output_type": "execute_result"
    }
   ],
   "source": [
    "qc = QuantumCircuit(1,1)\n",
    "# Alice prepares qubit in state |+>\n",
    "qc.h(0)\n",
    "# Alice now sends the qubit to Bob\n",
    "# but Eve intercepts and tries to read it\n",
    "qc.measure(0, 0)\n",
    "qc.barrier()\n",
    "# Eve then passes this on to Bob\n",
    "# who measures it in the X-basis\n",
    "qc.h(0)\n",
    "qc.measure(0,0)\n",
    "\n",
    "# Draw and simulate circuit\n",
    "display(qc.draw())\n",
    "qasm_sim = Aer.get_backend('qasm_simulator')\n",
    "job = qasm_sim.run(assemble(qc))\n",
    "plot_histogram(job.result().get_counts())"
   ]
  },
  {
   "cell_type": "markdown",
   "metadata": {},
   "source": [
    "We can see here that Bob now has a 50% chance of measuring `1`, and if he does, he and Alice will know there is something wrong with their channel. \n",
    "\n",
    "This effect occurs in any given non-identical pair of measurement bases:\n",
    "- The measured result of a mismatched basis will not always match the encoded bit.\n",
    "- The act of measurement changes a qubit in a predictable way.\n",
    "\n",
    "Another key concept in the E91 protocol is the EPR pair. An EPR pair is a pair of maximally entangled qubits. Qubits in an EPR pair have the interesting property that after measuring one of them in a given basis, if the paired qubit is measured in that same basis, that second measurement will, with 100% certainty, report a known value. If, however, the second qubit is measured in a different basis, the second measurement will report each possible outcome with known probabilities.\n",
    "\n",
    "By way of example, let us generate many instances of the $\\frac{1}{\\sqrt(2)}\\big(|00\\rangle + |11\\rangle\\big)$ EPR pair and measure each pair's qubits."
   ]
  },
  {
   "cell_type": "code",
   "execution_count": 5,
   "metadata": {},
   "outputs": [],
   "source": [
    "def generate_correlated_epr_pair():\n",
    "    # Generate a quantum circuit\n",
    "    qc = QuantumCircuit(2,2)\n",
    "    # Entangle an EPR pair\n",
    "    qc.h(0)\n",
    "    qc.cx(0,1)\n",
    "    # Return pair\n",
    "    return qc"
   ]
  },
  {
   "cell_type": "code",
   "execution_count": 6,
   "metadata": {},
   "outputs": [
    {
     "data": {
      "text/html": [
       "<pre style=\"word-wrap: normal;white-space: pre;background: #fff0;line-height: 1.1;font-family: &quot;Courier New&quot;,Courier,monospace\">     ┌───┐     ┌─┐   \n",
       "q_0: ┤ H ├──■──┤M├───\n",
       "     └───┘┌─┴─┐└╥┘┌─┐\n",
       "q_1: ─────┤ X ├─╫─┤M├\n",
       "          └───┘ ║ └╥┘\n",
       "c: 2/═══════════╩══╩═\n",
       "                0  1 </pre>"
      ],
      "text/plain": [
       "     ┌───┐     ┌─┐   \n",
       "q_0: ┤ H ├──■──┤M├───\n",
       "     └───┘┌─┴─┐└╥┘┌─┐\n",
       "q_1: ─────┤ X ├─╫─┤M├\n",
       "          └───┘ ║ └╥┘\n",
       "c: 2/═══════════╩══╩═\n",
       "                0  1 "
      ]
     },
     "metadata": {},
     "output_type": "display_data"
    },
    {
     "data": {
      "image/png": "[encoded data removed]",
      "text/plain": [
       "<Figure size 504x360 with 1 Axes>"
      ]
     },
     "execution_count": 6,
     "metadata": {},
     "output_type": "execute_result"
    }
   ],
   "source": [
    "qc = generate_correlated_epr_pair()\n",
    "# Measure each qubit in turn\n",
    "qc.measure(0,0)\n",
    "qc.measure(1,1)\n",
    "# Display results\n",
    "display(qc.draw())\n",
    "qasm_sim = Aer.get_backend('qasm_simulator')\n",
    "job = qasm_sim.run(assemble(qc))\n",
    "plot_histogram(job.result().get_counts())"
   ]
  },
  {
   "cell_type": "markdown",
   "metadata": {},
   "source": [
    "Note that the two outcomes are $|00\\rangle$ and $|11\\rangle$, in equal amounts. When the first bit is measured a 0, the second is measured a 0; likewise with 1.\n",
    "\n",
    "What happens if the $\\frac{1}{\\sqrt(2)}\\big(|00\\rangle + |11\\rangle\\big)$ state is measured in some basis other than the standard basis? \n",
    "\n",
    "To prepare, let's create some measurement functions at 45 degree angles to one another."
   ]
  },
  {
   "cell_type": "code",
   "execution_count": 7,
   "metadata": {},
   "outputs": [],
   "source": [
    "# Four axes of measurement in 45 degree increments\n",
    "from math import pi\n",
    "\n",
    "# X axis measurement\n",
    "def measure_1(qc, qubit, output):\n",
    "    qc.ry(1*pi/4, qubit)\n",
    "    qc.measure(qubit, output)\n",
    "\n",
    "# 1/sqrt(2) * (X + Z)\n",
    "def measure_2(qc, qubit, output):\n",
    "    qc.ry(2*pi/4, qubit)\n",
    "    qc.measure(qubit, output)\n",
    "\n",
    "# Z axis measurement\n",
    "def measure_3(qc, qubit, output):\n",
    "    qc.ry(3*pi/4, qubit)\n",
    "    qc.measure(qubit, output)\n",
    "\n",
    "# 1/sqrt(2) * (-X + Z)\n",
    "def measure_4(qc, qubit, output):\n",
    "    qc.ry(4*pi/4, qubit)\n",
    "    qc.measure(qubit, output)"
   ]
  },
  {
   "cell_type": "markdown",
   "metadata": {},
   "source": [
    "To save space, let's also abstract the output display function."
   ]
  },
  {
   "cell_type": "code",
   "execution_count": 8,
   "metadata": {},
   "outputs": [],
   "source": [
    "def display_qc_output(qc):\n",
    "    display(qc.draw())\n",
    "    qasm_sim = Aer.get_backend('qasm_simulator')\n",
    "    job = qasm_sim.run(assemble(qc))\n",
    "    return job.result().get_counts()"
   ]
  },
  {
   "cell_type": "markdown",
   "metadata": {},
   "source": [
    "Let's also make a macro for testing pairs of measurement functions."
   ]
  },
  {
   "cell_type": "code",
   "execution_count": 9,
   "metadata": {},
   "outputs": [],
   "source": [
    "def compare_measurements(measure_a, measure_b):\n",
    "    qc = generate_correlated_epr_pair()\n",
    "    measure_a(qc, 0, 0)\n",
    "    measure_b(qc, 1, 1)\n",
    "    return display_qc_output(qc)"
   ]
  },
  {
   "cell_type": "markdown",
   "metadata": {},
   "source": [
    "So what happens if we measure our EPR pairs in identical axes?"
   ]
  },
  {
   "cell_type": "code",
   "execution_count": 10,
   "metadata": {},
   "outputs": [
    {
     "data": {
      "text/html": [
       "<pre style=\"word-wrap: normal;white-space: pre;background: #fff0;line-height: 1.1;font-family: &quot;Courier New&quot;,Courier,monospace\">     ┌───┐     ┌─────────┐┌─┐   \n",
       "q_0: ┤ H ├──■──┤ RY(π/4) ├┤M├───\n",
       "     └───┘┌─┴─┐├─────────┤└╥┘┌─┐\n",
       "q_1: ─────┤ X ├┤ RY(π/4) ├─╫─┤M├\n",
       "          └───┘└─────────┘ ║ └╥┘\n",
       "c: 2/══════════════════════╩══╩═\n",
       "                           0  1 </pre>"
      ],
      "text/plain": [
       "     ┌───┐     ┌─────────┐┌─┐   \n",
       "q_0: ┤ H ├──■──┤ RY(π/4) ├┤M├───\n",
       "     └───┘┌─┴─┐├─────────┤└╥┘┌─┐\n",
       "q_1: ─────┤ X ├┤ RY(π/4) ├─╫─┤M├\n",
       "          └───┘└─────────┘ ║ └╥┘\n",
       "c: 2/══════════════════════╩══╩═\n",
       "                           0  1 "
      ]
     },
     "metadata": {},
     "output_type": "display_data"
    },
    {
     "data": {
      "image/png": "[encoded data removed]",
      "text/plain": [
       "<Figure size 504x360 with 1 Axes>"
      ]
     },
     "execution_count": 10,
     "metadata": {},
     "output_type": "execute_result"
    }
   ],
   "source": [
    "plot_histogram(compare_measurements(measure_1, measure_1))"
   ]
  },
  {
   "cell_type": "markdown",
   "metadata": {},
   "source": [
    "Clearly, the only measured results, if the bases match, are 00 and 11, i.e. the results are perfectly correlated.\n",
    "\n",
    "What happens if the bases are 45 degrees apart?"
   ]
  },
  {
   "cell_type": "code",
   "execution_count": 11,
   "metadata": {},
   "outputs": [
    {
     "data": {
      "text/html": [
       "<pre style=\"word-wrap: normal;white-space: pre;background: #fff0;line-height: 1.1;font-family: &quot;Courier New&quot;,Courier,monospace\">     ┌───┐     ┌─────────┐┌─┐   \n",
       "q_0: ┤ H ├──■──┤ RY(π/4) ├┤M├───\n",
       "     └───┘┌─┴─┐├─────────┤└╥┘┌─┐\n",
       "q_1: ─────┤ X ├┤ RY(π/2) ├─╫─┤M├\n",
       "          └───┘└─────────┘ ║ └╥┘\n",
       "c: 2/══════════════════════╩══╩═\n",
       "                           0  1 </pre>"
      ],
      "text/plain": [
       "     ┌───┐     ┌─────────┐┌─┐   \n",
       "q_0: ┤ H ├──■──┤ RY(π/4) ├┤M├───\n",
       "     └───┘┌─┴─┐├─────────┤└╥┘┌─┐\n",
       "q_1: ─────┤ X ├┤ RY(π/2) ├─╫─┤M├\n",
       "          └───┘└─────────┘ ║ └╥┘\n",
       "c: 2/══════════════════════╩══╩═\n",
       "                           0  1 "
      ]
     },
     "metadata": {},
     "output_type": "display_data"
    },
    {
     "data": {
      "image/png": "[encoded data removed]",
      "text/plain": [
       "<Figure size 504x360 with 1 Axes>"
      ]
     },
     "execution_count": 11,
     "metadata": {},
     "output_type": "execute_result"
    }
   ],
   "source": [
    "plot_histogram(compare_measurements(measure_1, measure_2))"
   ]
  },
  {
   "cell_type": "markdown",
   "metadata": {},
   "source": [
    "Clearly, when the bases are 45 degrees apart, only ~85% of readings match.\n",
    "\n",
    "What happens when bases are 90 degrees apart?"
   ]
  },
  {
   "cell_type": "code",
   "execution_count": 12,
   "metadata": {},
   "outputs": [
    {
     "data": {
      "text/html": [
       "<pre style=\"word-wrap: normal;white-space: pre;background: #fff0;line-height: 1.1;font-family: &quot;Courier New&quot;,Courier,monospace\">     ┌───┐     ┌─────────┐ ┌─┐   \n",
       "q_0: ┤ H ├──■──┤ RY(π/4) ├─┤M├───\n",
       "     └───┘┌─┴─┐├─────────┴┐└╥┘┌─┐\n",
       "q_1: ─────┤ X ├┤ RY(3π/4) ├─╫─┤M├\n",
       "          └───┘└──────────┘ ║ └╥┘\n",
       "c: 2/═══════════════════════╩══╩═\n",
       "                            0  1 </pre>"
      ],
      "text/plain": [
       "     ┌───┐     ┌─────────┐ ┌─┐   \n",
       "q_0: ┤ H ├──■──┤ RY(π/4) ├─┤M├───\n",
       "     └───┘┌─┴─┐├─────────┴┐└╥┘┌─┐\n",
       "q_1: ─────┤ X ├┤ RY(3π/4) ├─╫─┤M├\n",
       "          └───┘└──────────┘ ║ └╥┘\n",
       "c: 2/═══════════════════════╩══╩═\n",
       "                            0  1 "
      ]
     },
     "metadata": {},
     "output_type": "display_data"
    },
    {
     "data": {
      "image/png": "[encoded data removed]",
      "text/plain": [
       "<Figure size 504x360 with 1 Axes>"
      ]
     },
     "execution_count": 12,
     "metadata": {},
     "output_type": "execute_result"
    }
   ],
   "source": [
    "plot_histogram(compare_measurements(measure_1, measure_3))"
   ]
  },
  {
   "cell_type": "markdown",
   "metadata": {},
   "source": [
    "Clearly, when bases are 90 degrees apart, readings are essentially random, matching only 50% of the time.\n",
    "\n",
    "What about when bases are 135 degrees apart?"
   ]
  },
  {
   "cell_type": "code",
   "execution_count": 13,
   "metadata": {},
   "outputs": [
    {
     "data": {
      "text/html": [
       "<pre style=\"word-wrap: normal;white-space: pre;background: #fff0;line-height: 1.1;font-family: &quot;Courier New&quot;,Courier,monospace\">     ┌───┐     ┌─────────┐┌─┐   \n",
       "q_0: ┤ H ├──■──┤ RY(π/4) ├┤M├───\n",
       "     └───┘┌─┴─┐└┬───────┬┘└╥┘┌─┐\n",
       "q_1: ─────┤ X ├─┤ RY(π) ├──╫─┤M├\n",
       "          └───┘ └───────┘  ║ └╥┘\n",
       "c: 2/══════════════════════╩══╩═\n",
       "                           0  1 </pre>"
      ],
      "text/plain": [
       "     ┌───┐     ┌─────────┐┌─┐   \n",
       "q_0: ┤ H ├──■──┤ RY(π/4) ├┤M├───\n",
       "     └───┘┌─┴─┐└┬───────┬┘└╥┘┌─┐\n",
       "q_1: ─────┤ X ├─┤ RY(π) ├──╫─┤M├\n",
       "          └───┘ └───────┘  ║ └╥┘\n",
       "c: 2/══════════════════════╩══╩═\n",
       "                           0  1 "
      ]
     },
     "metadata": {},
     "output_type": "display_data"
    },
    {
     "data": {
      "image/png": "[encoded data removed]",
      "text/plain": [
       "<Figure size 504x360 with 1 Axes>"
      ]
     },
     "execution_count": 13,
     "metadata": {},
     "output_type": "execute_result"
    }
   ],
   "source": [
    "plot_histogram(compare_measurements(measure_1, measure_4))"
   ]
  },
  {
   "cell_type": "markdown",
   "metadata": {},
   "source": [
    "Clearly, when bases are 135 degrees apart, readings match only 15% of the time. \n",
    "\n",
    "To get a better handle on this, let's plot out the matching percentage as a function of $\\theta$ between the measurement bases."
   ]
  },
  {
   "cell_type": "code",
   "execution_count": 14,
   "metadata": {
    "code_folding": []
   },
   "outputs": [
    {
     "data": {
      "text/plain": [
       "<matplotlib.legend.Legend at 0x7f2cb81b84d0>"
      ]
     },
     "execution_count": 14,
     "metadata": {},
     "output_type": "execute_result"
    },
    {
     "data": {
      "image/png": "[encoded data removed]",
      "text/plain": [
       "<Figure size 432x288 with 1 Axes>"
      ]
     },
     "metadata": {
      "needs_background": "light"
     },
     "output_type": "display_data"
    }
   ],
   "source": [
    "def get_fraction_matching(theta):\n",
    "    qc = generate_correlated_epr_pair()\n",
    "    angle = theta * 2*pi/360\n",
    "    qc.ry(angle, 0)\n",
    "    qc.measure(0, 0)\n",
    "    qc.measure(1, 1)\n",
    "    qasm_sim = Aer.get_backend('qasm_simulator')\n",
    "    job = qasm_sim.run(assemble(qc))\n",
    "    counts = job.result().get_counts()\n",
    "    for result in [\"00\", \"01\", \"10\", \"11\"]:\n",
    "        if result not in counts:\n",
    "            counts[result] = 0\n",
    "    match_count = counts[\"11\"] + counts[\"00\"]\n",
    "    mismatch_count = counts[\"01\"] + counts[\"10\"]\n",
    "    match_fraction = match_count / (match_count + mismatch_count)\n",
    "    return match_fraction\n",
    "\n",
    "\n",
    "theta = [i for i in range(360)]\n",
    "fractions = [get_fraction_matching(i) for i in theta]\n",
    "plt.plot(theta, fractions, label=\"Measured data\")\n",
    "plt.plot(theta, [np.cos((i * pi/180)/2)**2 for i in theta], label = \"cos^2(theta/2))\")\n",
    "plt.legend()\n"
   ]
  },
  {
   "cell_type": "markdown",
   "metadata": {},
   "source": [
    "Clearly, the percentage of matching results is proportional to $\\cos^2(\\frac{\\theta}{2})$ between the two measurement bases."
   ]
  },
  {
   "cell_type": "markdown",
   "metadata": {},
   "source": [
    "The concept critical in the E91 protocol is the [CHSH inequality](https://en.wikipedia.org/wiki/CHSH_inequality), which describes the relationship between measurements of members of EPR pairs taken in bases rotated by known angles, as shown above. The inequality relates the observed probabilities of measuring in various bases as follows:\n",
    "\n",
    "Let Alice have 3 bases at 0 degrees, 45 degrees, and 90 degrees in some plane of the Bloch sphere, arbitrarily chosen here to be the XZ plane. Let Bob have 3 bases at 45 degrees, 90 degrees, and 135 degrees in that same XZ plane of the Bloch sphere. Let Alice's bases be denoted $a_1$, $a_2$, and $a_3$ and Bob's bases $b_2$, $b_3$, and $b_4$. It can be shown that for\n",
    "\n",
    "$E(a_i,b_j) = P_{00}(a_i,b_j) + P_{11}(a_i,b_j) + P_{10}(a_i,b_j) + P_{01}(a_i,b_j)$\n",
    "\n",
    "$S = E(a_1,b_2) - E(a_1,b_4) + E(a_3,b_2) + E(a_3,b_4)$\n",
    "\n",
    "If $S <= 2$, then the qubits of the measured EPR pair are not truly entangled and thus have been interfered with, and $S = 2\\sqrt{2}$ for ideally entangled EPR pairs."
   ]
  },
  {
   "cell_type": "markdown",
   "metadata": {},
   "source": [
    "## 3. Protocol Overview\n",
    "\n",
    "The E91 quantum key distribution protocol involves distributing EPR pairs to Alice and Bob, letting them each measure their qubits along privately-chosen bases, revealing their bases to one another, constructing a valid key from qubit measurements corresonding to matching basis choices, and using the results from non-matching choices in heuristic analyses to find eavesdroppers.\n",
    "\n",
    "For the sake of simplicity, all EPR pairs here will be in symmetrically entangled states (like $(1/sqrt(2))(|00\\rangle + |11\\rangle)$ or $(1/sqrt(2))(|++\\rangle + |--\\rangle)$) rather than complementarily entangled states (like $(1/sqrt(2))(|01\\rangle + |10\\rangle)$ or $(1/sqrt(2))(|+-\\rangle + |-+\\rangle)$). (If the pairs were in complementarily entangled states, a simple bit flip post-measurement on Bob's part would be sufficient to keep the protocol intact.)\n",
    "\n",
    "It is assumed that Alice and Bob have agreed beforehand on lengths of random strings to be generated, number of qubits to destroy in testing, the encoding procedures for each basis, etc.\n",
    "\n",
    "Detailed steps for the E91 protocol are below."
   ]
  },
  {
   "cell_type": "code",
   "execution_count": 15,
   "metadata": {},
   "outputs": [],
   "source": [
    "qubits_count = 200\n",
    "check_count = 5"
   ]
  },
  {
   "cell_type": "markdown",
   "metadata": {},
   "source": [
    "**- Step 1**\n",
    "\n",
    "Alice and Bob choose strings of random bits to be their basis choices. Alice chooses from the bases $Z_0$, $Z_{\\pi/8}$, $Z_{\\pi/4}$, while Bob chooses from the bases $Z_{-\\pi/8}$, $Z_0$, $Z_{\\pi/8}$, where $Z_\\theta$ is the $\\{|+\\rangle,|-\\rangle\\}$ basis rotated by $\\theta$.\n",
    "\n",
    "Let the basis choices $Z_{-\\pi/8}$, $Z_0$, $Z_{\\pi/8}$, and $Z_{\\pi/4}$ correspond to the integers 0 to 3."
   ]
  },
  {
   "cell_type": "code",
   "execution_count": 16,
   "metadata": {},
   "outputs": [],
   "source": [
    "alice_basis_choices = ''.join([str(randint(1, 3+1)) for i in range(qubits_count)])\n",
    "bob_basis_choices = ''.join([str(randint(2, 4+1)) for i in range(qubits_count)])\n",
    "# print(\"Alice's basis choices are:\\n\", alice_basis_choices)\n",
    "# print(\"Bob's basis choices are:\\n\", bob_basis_choices)"
   ]
  },
  {
   "cell_type": "markdown",
   "metadata": {},
   "source": [
    "Alice and Bob keep these pieces of information private to themselves. \n",
    "\n",
    "**- Step 2**\n",
    "\n",
    "Alice and Bob measure EPR pairs along their previously chosen bases. It does not matter where the EPR pairs come from - they can come from Alice, they can come from Bob, or they can come from an external source Eve. Regardless the EPR pairs' providence, they are measured by Alice and Bob.\n",
    "\n",
    "In Qiskit, this process will be modeled by generating EPR pair objects and having Alice and Bob measure them. Here, this is modeled by probabalistically generating outcomes, according to pairs of Alice and Bob basis choices."
   ]
  },
  {
   "cell_type": "code",
   "execution_count": 17,
   "metadata": {},
   "outputs": [
    {
     "name": "stdout",
     "output_type": "stream",
     "text": [
      "Alice's measurements are:\n",
      " 10110111000011011001111001010011010111001000100111101011000101011010000110100100101100011000100010001010001111010000110011110001110000111100011101110000101111100100011011011001010001001100001011011011\n",
      "Bob's measurements are:\n",
      " 10001001010001111100011011111011011111101010110110111001010001011010011110010101100000000001111001110010101011010101110011010001010101111110010101010101001110100111010110001100110011110111101111110011\n"
     ]
    }
   ],
   "source": [
    "alice_measurements = []\n",
    "bob_measurements = []\n",
    "for alice_basis, bob_basis in zip(alice_basis_choices, bob_basis_choices):\n",
    "    alice_basis, bob_basis = map(int, [alice_basis, bob_basis])\n",
    "    # The first measurement is always random:\n",
    "    primary_measurement = randint(0, 2)\n",
    "    secondary_measurement = \"X\"\n",
    "    # If measurements are aligned, they always match.\n",
    "    if alice_basis == bob_basis:\n",
    "        secondary_measurement = primary_measurement\n",
    "    # If measurements are pi/4 apart, they match 85% of the time.\n",
    "    elif abs(alice_basis - bob_basis) == 1:\n",
    "        secondary_measurement = int(random() < 0.85)\n",
    "    # If measurements are pi/2 apart, they match half the time.\n",
    "    elif abs(alice_basis - bob_basis) == 2:\n",
    "        secondary_measurement = int(random() < 0.50)\n",
    "    # If measurements are 3pi/4 apart, they match 15% of the time.\n",
    "    elif abs(alice_basis - bob_basis) == 3:\n",
    "        secondary_measurement = int(random() < 0.15)\n",
    "    # Store the measurements\n",
    "    alice_measurements.append(str(primary_measurement))\n",
    "    bob_measurements.append(str(secondary_measurement))\n",
    "alice_measurements = ''.join(alice_measurements)\n",
    "bob_measurements = ''.join(bob_measurements)\n",
    "print(\"Alice's measurements are:\\n\", alice_measurements)\n",
    "print(\"Bob's measurements are:\\n\", bob_measurements)"
   ]
  },
  {
   "cell_type": "markdown",
   "metadata": {},
   "source": [
    "**- Step 3**\n",
    "\n",
    "Alice and Bob reveal their bases to one another and use the new information to generate a secret key from those measurements that were taken in matching bases."
   ]
  },
  {
   "cell_type": "code",
   "execution_count": 18,
   "metadata": {},
   "outputs": [],
   "source": [
    "alice_secret_key = ''.join([measurement for measurement, a_choice, b_choice in \n",
    "                            zip(alice_measurements, \n",
    "                                alice_basis_choices, \n",
    "                                bob_basis_choices)\n",
    "                            if a_choice == b_choice])\n",
    "bob_secret_key = ''.join([measurement for measurement, a_choice, b_choice in \n",
    "                          zip(alice_measurements,\n",
    "                              alice_basis_choices, \n",
    "                              bob_basis_choices)\n",
    "                          if a_choice == b_choice])\n",
    "# print(\"Alice's secret key is: \\n\", alice_secret_key)\n",
    "# print(\"Bob's secret key is: \\n\", bob_secret_key)"
   ]
  },
  {
   "cell_type": "markdown",
   "metadata": {},
   "source": [
    "**- Step 4**\n",
    "\n",
    "Alice and Bob use their unused measurements (those from mismatched bases) to test Bell's inequality. This will involve calculating $E$ and $S$ as shown above, via the following equations:\n",
    "\n",
    "\n",
    "$E(a_i,b_j) = P_{00}(a_i,b_j) + P_{11}(a_i,b_j) - P_{10}(a_i,b_j) - P_{01}(a_i,b_j)$\n",
    "\n",
    "$S = E(a_1,b_2) - E(a_1,b_4) + E(a_3,b_2) + E(a_3,b_4)$\n",
    "\n",
    "To calculate these probabilities, Alice and Bob must each reveal the results of the measurements for which their bases did not match. However, they cannot reveal the results of those measurements for which their bases do match, since those measurements comprise their secret key.\n",
    "\n",
    "Let's make a helper function to do this sanitization."
   ]
  },
  {
   "cell_type": "code",
   "execution_count": 19,
   "metadata": {},
   "outputs": [
    {
     "name": "stdout",
     "output_type": "stream",
     "text": [
      "Alice sanitized results:\n",
      " --110111-0-01101-0011-1001010--10-0111001-00-0-11110-01-0001-----01000011-1001001-11---11000100-10001---00-1110-0000110-111--0011100001111000-1-0-1--0001011-1100100--10-1-110-10--001001-0000101101101-\n",
      "Bob sanitized results:\n",
      " --001001-1-00111-1000-1011111--10-1111101-10-1-11011-00-0100-----01001111-0101011-00---00001111-01110---10-0110-0101110-110--0010101011111100-0-0-0--1010011-0100111--01-0-011-01--011110-1110111111001-\n"
     ]
    }
   ],
   "source": [
    "def reveal_results(a_bases, b_bases, measurements):\n",
    "    return ''.join(measurement if a_basis != b_basis else '-'\n",
    "                   for a_basis, b_basis, measurement \n",
    "                   in zip(a_bases, b_bases, measurements))\n",
    "\n",
    "sanitized_alice_results = reveal_results(alice_basis_choices, \n",
    "                                         bob_basis_choices, \n",
    "                                         alice_measurements)\n",
    "\n",
    "sanitized_bob_results = reveal_results(alice_basis_choices, \n",
    "                                       bob_basis_choices, \n",
    "                                       bob_measurements)\n",
    "\n",
    "print(\"Alice sanitized results:\\n\", sanitized_alice_results)\n",
    "print(\"Bob sanitized results:\\n\", sanitized_bob_results)"
   ]
  },
  {
   "cell_type": "markdown",
   "metadata": {},
   "source": [
    "Next, using the now-public information of Alice's bases, Bob's bases, Alice's mismatched measurements, and Bob's mismatched measurements, calculate the probabilities associated with each pair of bases."
   ]
  },
  {
   "cell_type": "code",
   "execution_count": 20,
   "metadata": {},
   "outputs": [
    {
     "name": "stdout",
     "output_type": "stream",
     "text": [
      "The probabilities associated with each A&B basis pair:\n",
      "AB, Match, Mis, Results\n",
      "12, 0.519, 0.481;['00: 0.15', '01: 0.3', '10: 0.19', '11: 0.37']\n",
      "13, 0.647, 0.353;['00: 0.41', '01: 0.059', '10: 0.29', '11: 0.24']\n",
      "14, 0.545, 0.455;['00: 0.5', '01: 0.045', '10: 0.41', '11: 0.045']\n",
      "23, 0.526, 0.474;['00: 0.11', '01: 0.32', '10: 0.16', '11: 0.42']\n",
      "24,  0.56,  0.44;['00: 0.32', '01: 0.2', '10: 0.24', '11: 0.24']\n",
      "32, 0.429, 0.571;['00: 0.14', '01: 0.52', '10: 0.048', '11: 0.29']\n",
      "34, 0.381, 0.619;['00: 0.0', '01: 0.57', '10: 0.048', '11: 0.38']\n",
      "E is {'14': 0.09090909090909083, '23': 0.05263157894736842, '32': -0.1428571428571429, '24': 0.12000000000000005, '34': -0.23809523809523808, '12': 0.037037037037037035, '13': 0.29411764705882343}\n",
      "S is -0.4348244348244348\n",
      "Bell is validated? False\n"
     ]
    }
   ],
   "source": [
    "def generate_outcomes_by_basis_pair(a_bases, b_bases, \n",
    "                                    a_measurements, b_measurements):\n",
    "    outcomes_by_basis_pair = {}\n",
    "    for a_basis, b_basis, a_measurement, b_measurement \\\n",
    "            in zip(a_bases, b_bases, a_measurements, b_measurements):\n",
    "        if a_measurement != '-' and b_measurement != '-':\n",
    "            basis_pair = a_basis + b_basis\n",
    "            res = a_measurement + b_measurement\n",
    "            if basis_pair not in outcomes_by_basis_pair:\n",
    "                outcomes_by_basis_pair[basis_pair] = {}\n",
    "            if res not in outcomes_by_basis_pair[basis_pair]:\n",
    "                outcomes_by_basis_pair[basis_pair][res] = 0\n",
    "            outcomes_by_basis_pair[basis_pair][res] += 1\n",
    "    \n",
    "    return outcomes_by_basis_pair\n",
    "\n",
    "\n",
    "def generate_p(outcomes):\n",
    "    total_results_count = sum(list(outcomes.values()))\n",
    "    p = {result: (outcomes[result] if result in outcomes else 0) / total_results_count\n",
    "                     for result in [\"00\", \"01\", \"10\", \"11\"]}\n",
    "    return p\n",
    "    \n",
    "\n",
    "def generate_e(p):\n",
    "    return p[\"00\"] + p[\"11\"] - p[\"01\"] - p[\"10\"]\n",
    "\n",
    "\n",
    "def validate_bell(a_bases, b_bases, \n",
    "                  a_measurements, b_measurements):\n",
    "    outcomes_by_basis_pair = generate_outcomes_by_basis_pair(\n",
    "                                a_bases, b_bases, a_measurements, b_measurements)\n",
    "    p_by_basis_pair = {basis_pair: generate_p(outcomes_by_basis_pair[basis_pair])\n",
    "                       for basis_pair in outcomes_by_basis_pair}\n",
    "    \n",
    "    # JUST PRINTING STUFF OUT\n",
    "    lines = []\n",
    "    for basis_pair, p in p_by_basis_pair.items():\n",
    "        match_percent = p[\"00\"] + p[\"11\"]\n",
    "        mismatch_percent = p[\"01\"] + p[\"10\"]\n",
    "        lineparts = [\"{}, {:5.3}, {:5.3}\".format(basis_pair, match_percent, mismatch_percent), \n",
    "                     sorted([\"{}: {:3.2}\".format(k, v) for k, v in p.items()])]\n",
    "        line = ';'.join([str(part) for part in lineparts])\n",
    "        lines.append(line)\n",
    "    print(\"The probabilities associated with each A&B basis pair:\")\n",
    "    print(\"AB, Match, Mis, Results\")\n",
    "    for line in sorted(lines):\n",
    "        print(line)\n",
    "        \n",
    "        \n",
    "    e = {basis_pair: generate_e(p)\n",
    "         for basis_pair, p in p_by_basis_pair.items()}\n",
    "    print(\"E is\", e)\n",
    "    \n",
    "    s = e[\"12\"] - e[\"14\"] + e[\"32\"] + e[\"34\"]\n",
    "    print(\"S is\", s)\n",
    "    \n",
    "    return s > 2\n",
    "\n",
    "validated_bell = validate_bell(alice_basis_choices, bob_basis_choices, \n",
    "                               sanitized_alice_results, sanitized_bob_results)\n",
    "print(\"Bell is validated?\", validated_bell)"
   ]
  },
  {
   "cell_type": "markdown",
   "metadata": {},
   "source": [
    "If this comes back true, which it should, that means that we have spooky correlations at a distance, the EPR pair is indeed entangled, and our system is valid. Here, I'm bootlegging the measurement outcomes, not actually running them via Qiskit, so it will probably return `False`."
   ]
  },
  {
   "cell_type": "markdown",
   "metadata": {},
   "source": [
    "## 4. Qiskit Example\n",
    "\n",
    "I've disabled printing here since the Qubit count is really high. High qubit counts lead to the asymptotic result where S ~= 2root2."
   ]
  },
  {
   "cell_type": "code",
   "execution_count": 21,
   "metadata": {},
   "outputs": [],
   "source": [
    "qubits_count = 1000\n",
    "check_count = 5"
   ]
  },
  {
   "cell_type": "markdown",
   "metadata": {},
   "source": [
    "**- Step 1**\n",
    "\n",
    "Alice and Bob choose strings of random bits to be their basis choices. Alice chooses from the bases 1-3, while Bob chooses from the bases 2-4. Let the basis choices from measurements 1-4 defined above, i.e. those measurements happening at 45 degree angles, correspond to the integers 1-4."
   ]
  },
  {
   "cell_type": "code",
   "execution_count": 22,
   "metadata": {},
   "outputs": [],
   "source": [
    "alice_basis_choices = ''.join([str(randint(1, 3+1)) for i in range(qubits_count)])\n",
    "bob_basis_choices = ''.join([str(randint(2, 4+1)) for i in range(qubits_count)])\n",
    "# print(\"Alice's basis choices are:\\n\", alice_basis_choices)\n",
    "# print(\"Bob's basis choices are:\\n\", bob_basis_choices)"
   ]
  },
  {
   "cell_type": "markdown",
   "metadata": {},
   "source": [
    "Alice and Bob keep these pieces of information private to themselves. \n",
    "\n",
    "**- Step 2**\n",
    "\n",
    "Alice and Bob measure EPR pairs along their previously chosen bases."
   ]
  },
  {
   "cell_type": "code",
   "execution_count": 23,
   "metadata": {},
   "outputs": [],
   "source": [
    "def generate_measurements_along_chosen_bases(alice_basis_choices, bob_basis_choices):\n",
    "    alice_measurements = []\n",
    "    bob_measurements = []\n",
    "    for alice_basis, bob_basis in zip(alice_basis_choices, bob_basis_choices):\n",
    "        alice_basis, bob_basis = map(int, [alice_basis, bob_basis])\n",
    "        # Generate an EPR pair:\n",
    "        qc = generate_correlated_epr_pair()\n",
    "        # Apply the measurements\n",
    "        qc.ry(alice_basis * (-pi/4), 0)\n",
    "        qc.ry(bob_basis * (-pi/4), 1)\n",
    "        qc.measure(0, 0)\n",
    "        qc.measure(1, 1)\n",
    "        # Retrieve the measurements\n",
    "        qasm_sim = Aer.get_backend('qasm_simulator')\n",
    "        job = qasm_sim.run(assemble(qc, shots=1))\n",
    "        data = job.result().data()\n",
    "        res = int(list(data['counts'].keys()).pop()[-1])\n",
    "        alice_measurement, bob_measurement = res // 2, res % 2\n",
    "        # Record the measurements\n",
    "        alice_measurements.append(str(alice_measurement))\n",
    "        bob_measurements.append(str(bob_measurement))\n",
    "    alice_measurements = ''.join(alice_measurements)\n",
    "    bob_measurements = ''.join(bob_measurements)\n",
    "    return alice_measurements, bob_measurements\n",
    "\n",
    "alice_measurements, bob_measurements = generate_measurements_along_chosen_bases(alice_basis_choices, bob_basis_choices)\n",
    "# print(\"Alice's measurements are:\\n\", alice_measurements)\n",
    "# print(\"Bob's measurements are:\\n\", bob_measurements)"
   ]
  },
  {
   "cell_type": "markdown",
   "metadata": {},
   "source": [
    "**- Step 3**\n",
    "\n",
    "Alice and Bob reveal their bases to one another and use the new information to generate a secret key from those measurements that were taken in matching bases."
   ]
  },
  {
   "cell_type": "code",
   "execution_count": 24,
   "metadata": {},
   "outputs": [],
   "source": [
    "alice_secret_key = ''.join([measurement for measurement, a_choice, b_choice in \n",
    "                            zip(alice_measurements, \n",
    "                                alice_basis_choices, \n",
    "                                bob_basis_choices)\n",
    "                            if a_choice == b_choice])\n",
    "bob_secret_key = ''.join([measurement for measurement, a_choice, b_choice in \n",
    "                          zip(alice_measurements,\n",
    "                              alice_basis_choices, \n",
    "                              bob_basis_choices)\n",
    "                          if a_choice == b_choice])\n",
    "# print(\"Alice's secret key is: \\n\", alice_secret_key)\n",
    "# print(\"Bob's secret key is: \\n\", bob_secret_key)\n",
    "assert alice_secret_key == bob_secret_key"
   ]
  },
  {
   "cell_type": "markdown",
   "metadata": {},
   "source": [
    "**- Step 4**\n",
    "\n",
    "Alice and Bob use their unused measurements (those from mismatched bases) to test [Bell's theorem](https://en.wikipedia.org/wiki/Bell%27s_theorem).\n",
    "\n",
    "See the end of Section 2 above for details."
   ]
  },
  {
   "cell_type": "code",
   "execution_count": 25,
   "metadata": {},
   "outputs": [
    {
     "name": "stdout",
     "output_type": "stream",
     "text": [
      "The probabilities associated with each A&B basis pair:\n",
      "AB, Match, Mis, Results\n",
      "12, 0.871, 0.129;['00: 0.4', '01: 0.056', '10: 0.073', '11: 0.47']\n",
      "13, 0.588, 0.412;['00: 0.3', '01: 0.24', '10: 0.18', '11: 0.29']\n",
      "14, 0.147, 0.853;['00: 0.11', '01: 0.41', '10: 0.45', '11: 0.034']\n",
      "22,   1.0,   0.0;['00: 0.6', '01: 0.0', '10: 0.0', '11: 0.4']\n",
      "23, 0.832, 0.168;['00: 0.45', '01: 0.08', '10: 0.088', '11: 0.38']\n",
      "24,  0.47,  0.53;['00: 0.19', '01: 0.23', '10: 0.3', '11: 0.28']\n",
      "32, 0.862, 0.138;['00: 0.41', '01: 0.052', '10: 0.086', '11: 0.45']\n",
      "33,   1.0,   0.0;['00: 0.51', '01: 0.0', '10: 0.0', '11: 0.49']\n",
      "34, 0.839, 0.161;['00: 0.5', '01: 0.071', '10: 0.089', '11: 0.34']\n",
      "E is {'32': 0.7241379310344827, '34': 0.6785714285714286, '33': 1.0, '22': 1.0, '13': 0.17525773195876282, '23': 0.663716814159292, '14': -0.7068965517241379, '24': -0.060869565217391314, '12': 0.7419354838709676}\n",
      "S is 2.851541395201017\n",
      "Bell is validated? True\n"
     ]
    }
   ],
   "source": [
    "validated_bell = validate_bell(alice_basis_choices, bob_basis_choices, \n",
    "                               alice_measurements, bob_measurements)\n",
    "print(\"Bell is validated?\", validated_bell)"
   ]
  },
  {
   "cell_type": "markdown",
   "metadata": {},
   "source": [
    "The Bell test is validated! The CHSH inequality holds true! We are in the clear! WOOHOO!"
   ]
  },
  {
   "cell_type": "markdown",
   "metadata": {},
   "source": [
    "## Simplified Qiskit Implementation"
   ]
  },
  {
   "cell_type": "code",
   "execution_count": 26,
   "metadata": {
    "scrolled": true
   },
   "outputs": [
    {
     "name": "stdout",
     "output_type": "stream",
     "text": [
      "Alice's key':\n",
      "110011000110100\n",
      "Bob's key':\n",
      "110011000110100\n",
      "(keys should match)\n"
     ]
    }
   ],
   "source": [
    "#Ben Newhall 5/4/21\n",
    "\n",
    "from qiskit import execute\n",
    "#prepare arrays to hold Bob and Alice's Random Bases\n",
    "\n",
    "number_qbits = 75 #number of qubits we are comparing\n",
    "\n",
    "a_base = [] #random bases\n",
    "b_base = []\n",
    "\n",
    "#prepare arrays to hold measurement results\n",
    "\n",
    "a_result = []\n",
    "b_result = []\n",
    "\n",
    "#iterate for each n, alice and bob measure their qubit of an epr pair in arandom basis, and store result\n",
    "\n",
    "for i in range(number_qbits) :\n",
    "    \n",
    "    #start by making circuit to prepare Bell State\n",
    "\n",
    "    entangle = generate_correlated_epr_pair() #using function from above\n",
    "    \n",
    "    #find the random bases to measure in with measurements described above\n",
    "    a_base.append(randint(1, 3))\n",
    "    b_base.append(randint(2, 4))\n",
    "    \n",
    "    #alice measures her qubit\n",
    "    entangle.ry((a_base[-1]-1)*pi/4, 0)\n",
    "    entangle.measure(0, 0)\n",
    "    #bob measures his qubit\n",
    "    entangle.ry((b_base[-1]-1)*pi/4, 1)\n",
    "    entangle.measure(1, 1)\n",
    "    \n",
    "    \n",
    "    #execute circuit\n",
    "    results = execute(entangle, backend = Aer.get_backend('qasm_simulator'), shots =1).result()\n",
    "    answer = results.get_counts(entangle) #get map from system state to number of times it occured i.e. '00' : 1\n",
    "    \n",
    "    #add results to result array\n",
    "    a_result.append(str(list(answer.keys())[0])[0])\n",
    "    b_result.append(str(list(answer.keys())[0])[1])\n",
    "    \n",
    "    \n",
    "\n",
    "#bob and alice compare their bases, and where they are equal, they use the same bit for the key\n",
    "a_key = []\n",
    "b_key = []  \n",
    "for i in range(number_qbits) :\n",
    "    #if the bases match, alice and bob keep their individual measurements for their key\n",
    "    if a_base[i] == b_base[i] : \n",
    "        a_key.append(a_result[i])\n",
    "        b_key.append(b_result[i])\n",
    "a_key = \"\".join(a_key)\n",
    "b_key = \"\".join(b_key)\n",
    "        \n",
    "print(\"Alice's key':\")\n",
    "print(a_key)\n",
    "\n",
    "print(\"Bob's key':\")\n",
    "print(b_key)\n",
    "\n",
    "print(\"(keys should match)\")\n",
    "assert a_key == b_key\n",
    "        \n"
   ]
  }
 ],
 "metadata": {
  "kernelspec": {
   "display_name": "Python 3",
   "language": "python",
   "name": "python3"
  },
  "language_info": {
   "codemirror_mode": {
    "name": "ipython",
    "version": 3
   },
   "file_extension": ".py",
   "mimetype": "text/x-python",
   "name": "python",
   "nbconvert_exporter": "python",
   "pygments_lexer": "ipython3",
   "version": "3.7.7"
  }
 },
 "nbformat": 4,
 "nbformat_minor": 4
}
