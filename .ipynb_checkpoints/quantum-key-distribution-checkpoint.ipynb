{
 "cells": [
  {
   "cell_type": "markdown",
   "metadata": {
    "tags": [
     "remove_cell"
    ]
   },
   "source": [
    "# Quantum Key Distribution - B92"
   ]
  },
  {
   "cell_type": "markdown",
   "metadata": {},
   "source": [
    "Original code, which explained the BB84 protocol, sourced from: \n",
    "\n",
    "https://qiskit.org/textbook/ch-algorithms/quantum-key-distribution.html"
   ]
  },
  {
   "cell_type": "markdown",
   "metadata": {
    "tags": [
     "contents"
    ]
   },
   "source": [
    "## Contents\n",
    "\n",
    "1. Introduction\n",
    "2. Protocol Overview\n",
    "3. Qiskit Example"
   ]
  },
  {
   "cell_type": "markdown",
   "metadata": {},
   "source": [
    "## 1. Introduction\n",
    "\n",
    "When Alice and Bob want to communicate a secret message (such as Bob’s online banking details) over an insecure channel (such as the internet), its essential to encrypt the message. Since cryptography is a large area and almost all of it is outside the scope of this textbook, we will have to believe that Alice and Bob having a secret key that no-one else knows is useful and allows them to communicate using symmetric-key cryptography.\n",
    "\n",
    "If Alice and Bob want to use Eve’s classical communication channel to share their key, it is impossible to tell if Eve has made a copy of this key for herself- they must place complete trust in Eve that she is not listening. If, however, Eve provides a quantum communication channel, Alice and Bob no longer need to trust Eve at all- they will know if she tries to read Bob’s message before it gets to Alice.\n",
    "\n",
    "For some readers, it may be useful to give an idea of how a quantum channel may be physically implemented. An example of a classical channel could be a telephone line; we send electric signals through the line that represent our message (or bits). A proposed example of a quantum communication channel could be some kind of fibre-optic cable, through which we can send individual photons (particles of light). Photons have a property call _polarisation,_ and this polarisation can be one of two states. We can use this to represent a qubit.\n",
    "\n",
    "\n",
    "## 2. Protocol Overview  \n",
    "\n",
    "The protocol makes use of the fact that measuring a qubit can change its state. If Alice sends Bob a qubit, and an eavesdropper (Eve) tries to measure it before Bob does, there is a chance that Eve’s measurement will change the state of the qubit and Bob will not receive the qubit state Alice sent.  "
   ]
  },
  {
   "cell_type": "code",
   "execution_count": 1,
   "metadata": {
    "scrolled": true,
    "tags": [
     "thebelab-init"
    ]
   },
   "outputs": [
    {
     "name": "stdout",
     "output_type": "stream",
     "text": [
      "Imports Successful\n"
     ]
    }
   ],
   "source": [
    "from qiskit import QuantumCircuit, Aer, transpile, assemble\n",
    "from qiskit.visualization import plot_histogram, plot_bloch_multivector\n",
    "from numpy.random import randint, choice\n",
    "import numpy as np\n",
    "print(\"Imports Successful\")"
   ]
  },
  {
   "cell_type": "markdown",
   "metadata": {},
   "source": [
    "If Alice prepares a qubit in the state $|+\\rangle$ (`0` in the X-basis), and Bob measures it in the X-basis, Bob is sure to measure `0`:"
   ]
  },
  {
   "cell_type": "code",
   "execution_count": 2,
   "metadata": {},
   "outputs": [
    {
     "data": {
      "text/html": [
       "<pre style=\"word-wrap: normal;white-space: pre;background: #fff0;line-height: 1.1;font-family: &quot;Courier New&quot;,Courier,monospace\">     ┌───┐ ░ ┌───┐┌─┐\n",
       "q_0: ┤ H ├─░─┤ H ├┤M├\n",
       "     └───┘ ░ └───┘└╥┘\n",
       "c: 1/══════════════╩═\n",
       "                   0 </pre>"
      ],
      "text/plain": [
       "     ┌───┐ ░ ┌───┐┌─┐\n",
       "q_0: ┤ H ├─░─┤ H ├┤M├\n",
       "     └───┘ ░ └───┘└╥┘\n",
       "c: 1/══════════════╩═\n",
       "                   0 "
      ]
     },
     "metadata": {},
     "output_type": "display_data"
    },
    {
     "data": {
      "image/png": "[encoded data removed]",
      "text/plain": [
       "<Figure size 504x360 with 1 Axes>"
      ]
     },
     "execution_count": 2,
     "metadata": {},
     "output_type": "execute_result"
    }
   ],
   "source": [
    "qc = QuantumCircuit(1,1)\n",
    "# Alice prepares qubit in state |+>\n",
    "qc.h(0)\n",
    "qc.barrier()\n",
    "# Alice now sends the qubit to Bob\n",
    "# who measures it in the X-basis\n",
    "qc.h(0)\n",
    "qc.measure(0,0)\n",
    "\n",
    "# Draw and simulate circuit\n",
    "display(qc.draw())\n",
    "qasm_sim = Aer.get_backend('qasm_simulator')\n",
    "job = qasm_sim.run(assemble(qc))\n",
    "plot_histogram(job.result().get_counts())"
   ]
  },
  {
   "cell_type": "markdown",
   "metadata": {},
   "source": [
    "But if Eve tries to measure this qubit in the Z-basis before it reaches Bob, she will change the qubit's state from $|+\\rangle$ to either $|0\\rangle$ or $|1\\rangle$, and Bob is no longer certain to measure `0`:"
   ]
  },
  {
   "cell_type": "code",
   "execution_count": 3,
   "metadata": {},
   "outputs": [
    {
     "data": {
      "text/html": [
       "<pre style=\"word-wrap: normal;white-space: pre;background: #fff0;line-height: 1.1;font-family: &quot;Courier New&quot;,Courier,monospace\">     ┌───┐┌─┐ ░ ┌───┐┌─┐\n",
       "q_0: ┤ H ├┤M├─░─┤ H ├┤M├\n",
       "     └───┘└╥┘ ░ └───┘└╥┘\n",
       "c: 1/══════╩══════════╩═\n",
       "           0          0 </pre>"
      ],
      "text/plain": [
       "     ┌───┐┌─┐ ░ ┌───┐┌─┐\n",
       "q_0: ┤ H ├┤M├─░─┤ H ├┤M├\n",
       "     └───┘└╥┘ ░ └───┘└╥┘\n",
       "c: 1/══════╩══════════╩═\n",
       "           0          0 "
      ]
     },
     "metadata": {},
     "output_type": "display_data"
    },
    {
     "data": {
      "image/png": "[encoded data removed]",
      "text/plain": [
       "<Figure size 504x360 with 1 Axes>"
      ]
     },
     "execution_count": 3,
     "metadata": {},
     "output_type": "execute_result"
    }
   ],
   "source": [
    "qc = QuantumCircuit(1,1)\n",
    "# Alice prepares qubit in state |+>\n",
    "qc.h(0)\n",
    "# Alice now sends the qubit to Bob\n",
    "# but Eve intercepts and tries to read it\n",
    "qc.measure(0, 0)\n",
    "qc.barrier()\n",
    "# Eve then passes this on to Bob\n",
    "# who measures it in the X-basis\n",
    "qc.h(0)\n",
    "qc.measure(0,0)\n",
    "\n",
    "# Draw and simulate circuit\n",
    "display(qc.draw())\n",
    "qasm_sim = Aer.get_backend('qasm_simulator')\n",
    "job = qasm_sim.run(assemble(qc))\n",
    "plot_histogram(job.result().get_counts())"
   ]
  },
  {
   "cell_type": "markdown",
   "metadata": {},
   "source": [
    "We can see here that Bob now has a 50% chance of measuring `1`, and if he does, he and Alice will know there is something wrong with their channel.\n",
    "\n",
    "The B92 quantum key distribution protocol involves repeating this process enough times that an eavesdropper has a negligible chance of getting away with this interception. It is roughly as follows:"
   ]
  },
  {
   "cell_type": "markdown",
   "metadata": {},
   "source": [
    "**- Step 0**\n",
    "\n",
    "It is assumed that Alice and Bob have agreed beforehand that the two basis sets along which they will be measuring qubits are the Binary basis set and the Hadamar basis set.\n",
    "\n",
    "It is assumed that Bob knows that Alice is encoding her `1`s as `+`s and her `0`s as `0`s.\n",
    "\n",
    "It is assumed that Alice and Bob have agreed beforehand on lengths of random strings to be generated, number of qubits to destroy in testing, etc."
   ]
  },
  {
   "cell_type": "code",
   "execution_count": 4,
   "metadata": {},
   "outputs": [],
   "source": [
    "qubits_count = 50\n",
    "check_count = 3"
   ]
  },
  {
   "cell_type": "markdown",
   "metadata": {},
   "source": [
    "**- Step 1a**\n",
    "\n",
    "Alice chooses a string of random bits to be her secret key, e.g.:"
   ]
  },
  {
   "cell_type": "code",
   "execution_count": 5,
   "metadata": {},
   "outputs": [
    {
     "name": "stdout",
     "output_type": "stream",
     "text": [
      "Alice's secret key is: 01010000110100110100100010010001100010010001100101\n"
     ]
    }
   ],
   "source": [
    "alice_secret_key = ''.join([str(randint(0, 2)) for i in range(qubits_count)])\n",
    "print(\"Alice's secret key is:\", alice_secret_key)"
   ]
  },
  {
   "cell_type": "markdown",
   "metadata": {},
   "source": [
    "Alice keeps this piece of information private to herself. \n",
    "\n",
    "**- Step 1b**\n",
    "\n",
    "Alice then encodes her secret key and sends it to Bob. \n",
    "She encodes each 0 as a $|0\\rangle$, and she encodes each 1 as a $|+\\rangle$.\n",
    "\n",
    "In this case, the string of encoded qubits would look like:"
   ]
  },
  {
   "cell_type": "code",
   "execution_count": 6,
   "metadata": {},
   "outputs": [
    {
     "name": "stdout",
     "output_type": "stream",
     "text": [
      "Alice's encoded qubits, sent to Bob, are: 0+0+0000++0+00++0+00+000+00+000++000+00+000++00+0+\n"
     ]
    }
   ],
   "source": [
    "alice_encoded_qubits = alice_secret_key.replace(\"1\", \"+\")\n",
    "print(\"Alice's encoded qubits, sent to Bob, are:\", alice_encoded_qubits)"
   ]
  },
  {
   "cell_type": "markdown",
   "metadata": {},
   "source": [
    "**- Step 2a**\n",
    "\n",
    "Bob randomly selects between the Binary basis and the Hadamar basis as the basis with which he will measure each qubit that Alice sends him. Letting `B` represent the Binary basis and letting `H` represent Hadamar basis, he might use the bases:\n"
   ]
  },
  {
   "cell_type": "code",
   "execution_count": 7,
   "metadata": {},
   "outputs": [
    {
     "name": "stdout",
     "output_type": "stream",
     "text": [
      "Bob's chosen bases are: HBHHHHBBBBHHHBHHHBHBBBBHHBBHHBBHBHBHHHHBHBBBBBHBHH\n"
     ]
    }
   ],
   "source": [
    "bobs_chosen_bases = ''.join([choice(['B', 'H']) for i in range(qubits_count)])\n",
    "print(\"Bob's chosen bases are:\", bobs_chosen_bases)"
   ]
  },
  {
   "cell_type": "markdown",
   "metadata": {},
   "source": [
    "Bob keeps his basis set choices private for now.\n",
    "\n",
    "**- Step 2b**\n",
    "\n",
    "Bob recieves Alice's qubits, measuring each qubit along the corresponding basis that he chose for it beforehand. "
   ]
  },
  {
   "cell_type": "code",
   "execution_count": 8,
   "metadata": {},
   "outputs": [
    {
     "name": "stdout",
     "output_type": "stream",
     "text": [
      "Bob's measured results are: -1+++-0000++-0+++0-0000-+00+-00+1+0-++-0+00010-0++\n"
     ]
    }
   ],
   "source": [
    "bobs_measured_results = []\n",
    "for i in range(qubits_count):\n",
    "    sent_qubit = alice_encoded_qubits[i]\n",
    "    chosen_basis = bobs_chosen_bases[i]\n",
    "    if sent_qubit == '0' and chosen_basis == 'B':\n",
    "        bobs_measured_results.append(\"0\")\n",
    "    elif sent_qubit == '0' and chosen_basis == 'H':\n",
    "        if randint(0, 2):\n",
    "            bobs_measured_results.append(\"+\")\n",
    "        else:\n",
    "            bobs_measured_results.append(\"-\")\n",
    "    elif sent_qubit == '+' and chosen_basis == 'B':\n",
    "        if randint(0, 2):\n",
    "            bobs_measured_results.append(\"0\")\n",
    "        else:\n",
    "            bobs_measured_results.append(\"1\")\n",
    "    elif sent_qubit == '+' and chosen_basis == 'H':\n",
    "        bobs_measured_results.append(\"+\")\n",
    "bobs_measured_results = ''.join(bobs_measured_results)\n",
    "print(\"Bob's measured results are:\", bobs_measured_results)"
   ]
  },
  {
   "cell_type": "markdown",
   "metadata": {},
   "source": [
    "There are 4 equally likely permutations that might arise in each measurement:\n",
    "- Alice sends a $|0\\rangle$ which Bob measures in the Binary basis. \n",
    "    - With 100% certainty, Bob will measure a $|0\\rangle$.\n",
    "- Alice sends a $|0\\rangle$ which Bob measures in the Hadamar basis.\n",
    "    - With 50% certainty, Bob will measure a $|+\\rangle$.\n",
    "    - With 50% certainty, Bob will measure a $|-\\rangle$.\n",
    "- Alice sends a $|+\\rangle$ which Bob measures in the Binary basis.\n",
    "    - With 50% certainty, Bob will measure a $|0\\rangle$.\n",
    "    - With 50% certainty, Bob will measure a $|1\\rangle$.\n",
    "- Alice sends a $|+\\rangle$ which Bob measures in the Hadamar basis.\n",
    "    - With 100% certainty, Bob will measure a $|+\\rangle$.\n",
    "\n",
    "Clearly, Bob will only measure a $|1\\rangle$ if Alice sends him a $|+\\rangle$ and he measures it in the Binary basis. This will happen in 12.5% of measurements.\n",
    "Clearly, Bob will only measure a $|-\\rangle$ if Alice sends him a $|0\\rangle$ and he measures it in the Hadamar basis. This will happen in 12.5% of measurements.\n",
    "However, Bob can measure a $|0\\rangle$ in two scenarios: when he measures a $|0\\rangle$ in the Binary basis, or when he measures a $|+\\rangle$ in the Binary basis.\n",
    "Additionally, Bob can measure a $|+\\rangle$ in two scenarios: when he measures a $|0\\rangle$ in the Hadamar basis, or when he measures a $|+\\rangle$ in the Hadamar basis.\n",
    "\n",
    "**- Step 3a**\n",
    "\n",
    "When Bob measures a $|1\\rangle$ or a $|-\\rangle$, he knows for certain that Alice sent him a $|+\\rangle$ or $|0\\rangle$, respectively.\n",
    "However, when Bob measures a $|0\\rangle$ or a $|+\\rangle$, he knows nothing for certain about the qubit Alice just sent him.\n",
    "\n",
    "Thus, Bob infers those sent qubits that he can definitely know, i.e. those corresponding to measurement results of $|1\\rangle$ or $|-\\rangle$. He leaves the other bits empty."
   ]
  },
  {
   "cell_type": "code",
   "execution_count": 9,
   "metadata": {},
   "outputs": [
    {
     "name": "stdout",
     "output_type": "stream",
     "text": [
      "Bob infers that Alice sent him the qubits: 0+???0??????0?????0????0????0???+??0??0?????+?0???\n"
     ]
    }
   ],
   "source": [
    "bobs_inferred_sent_qubits = []\n",
    "for measurement in bobs_measured_results:\n",
    "    if measurement in \"0+\":\n",
    "        bobs_inferred_sent_qubits.append(\"?\")\n",
    "    elif measurement == \"1\":\n",
    "        bobs_inferred_sent_qubits.append(\"+\")\n",
    "    elif measurement == \"-\":\n",
    "        bobs_inferred_sent_qubits.append(\"0\")\n",
    "bobs_inferred_sent_qubits = \"\".join(bobs_inferred_sent_qubits)\n",
    "print(\"Bob infers that Alice sent him the qubits:\", bobs_inferred_sent_qubits)"
   ]
  },
  {
   "cell_type": "markdown",
   "metadata": {},
   "source": [
    "**- Step 3b**\n",
    "\n",
    "Bob, knowing that Alice is encoding `1` as $|+\\rangle$ and `0` as $|0\\rangle$, converts his inferred qubits into a partial copy of the secret key that encoded those qubits."
   ]
  },
  {
   "cell_type": "code",
   "execution_count": 10,
   "metadata": {},
   "outputs": [
    {
     "name": "stdout",
     "output_type": "stream",
     "text": [
      "Bob's secret key, which should mirror Alice's in part, is: 01???0??????0?????0????0????0???1??0??0?????1?0???\n"
     ]
    }
   ],
   "source": [
    "bob_secret_key = \"\".join(['1' if q == '+' else q for q in bobs_inferred_sent_qubits])\n",
    "print(\"Bob's secret key, which should mirror Alice's in part, is:\", bob_secret_key)"
   ]
  },
  {
   "cell_type": "markdown",
   "metadata": {},
   "source": [
    "For the record, the two keys are now:"
   ]
  },
  {
   "cell_type": "code",
   "execution_count": 11,
   "metadata": {},
   "outputs": [
    {
     "name": "stdout",
     "output_type": "stream",
     "text": [
      "01010000110100110100100010010001100010010001100101\n",
      "01???0??????0?????0????0????0???1??0??0?????1?0???\n"
     ]
    }
   ],
   "source": [
    "print(alice_secret_key)\n",
    "print(bob_secret_key)"
   ]
  },
  {
   "cell_type": "markdown",
   "metadata": {},
   "source": [
    "**- Step 4**\n",
    "\n",
    "Bob sends Alice a string along the classical channel denoting all the qubits for which he was unable to surely determine the encoded bit of Alice's secret key. Alice and Bob create new keys, containing only those bits corresponding to the qubits for which Bob measured a $|1\\rangle$ or a $|-\\rangle$, i.e. those bits for which Bob knows Alice's encoded secret key bit."
   ]
  },
  {
   "cell_type": "code",
   "execution_count": 12,
   "metadata": {},
   "outputs": [
    {
     "name": "stdout",
     "output_type": "stream",
     "text": [
      "A's Secret Key: 010000010010\n",
      "B's Secret Key: 010000010010\n"
     ]
    }
   ],
   "source": [
    "successfully_determined_bits = ['0' if bit == \"?\" else '1' for bit in bob_secret_key]\n",
    "alice_sifted_key = []\n",
    "bob_sifted_key = []\n",
    "for alice_bit, bob_bit, bit_is_valid in zip(alice_secret_key, bob_secret_key, successfully_determined_bits):\n",
    "    if bit_is_valid == \"1\":\n",
    "        alice_sifted_key.append(alice_bit)\n",
    "        bob_sifted_key.append(bob_bit)\n",
    "alice_secret_key = ''.join(alice_sifted_key)\n",
    "bob_secret_key = ''.join(bob_sifted_key)\n",
    "print(\"A's Secret Key:\", alice_secret_key)\n",
    "print(\"B's Secret Key:\", bob_secret_key)\n"
   ]
  },
  {
   "cell_type": "markdown",
   "metadata": {},
   "source": [
    "**- Step 5**\n",
    "\n",
    "Finally, Bob and Alice share a sample of their keys, and if the samples match, they can be sure (to a small margin of error) that their transmission is successful."
   ]
  },
  {
   "cell_type": "code",
   "execution_count": 13,
   "metadata": {},
   "outputs": [
    {
     "name": "stdout",
     "output_type": "stream",
     "text": [
      "Alice's and Bob's keys match.\n"
     ]
    }
   ],
   "source": [
    "assert(len(alice_secret_key) == len(bob_secret_key))\n",
    "check_idx = choice(len(alice_secret_key), check_count, replace=False)\n",
    "\n",
    "keys_match = True\n",
    "for idx in check_idx:\n",
    "    if alice_secret_key[idx] != bob_secret_key[idx]:\n",
    "        keys_match = False\n",
    "\n",
    "if keys_match:\n",
    "    print(\"Alice's and Bob's keys match.\")\n",
    "else:\n",
    "    print(\"Alice's and Bob's keys do not match.\")"
   ]
  },
  {
   "cell_type": "markdown",
   "metadata": {},
   "source": [
    "## 3. Qiskit Example\n",
    "\n",
    "Let’s first see how the protocol works when no-one is listening in. As always, let's start by importing everything we need:"
   ]
  },
  {
   "cell_type": "markdown",
   "metadata": {},
   "source": [
    "To generate pseudo-random keys, we will use the `randint` function from numpy. To make sure you can reproduce the results on this page, we will set the seed to 0:"
   ]
  },
  {
   "cell_type": "code",
   "execution_count": 14,
   "metadata": {},
   "outputs": [],
   "source": [
    "np.random.seed(seed=0)"
   ]
  },
  {
   "cell_type": "markdown",
   "metadata": {},
   "source": [
    "We will call the length of Alice's initial message `n`. In this example, Alice will send a message 100 qubits long:"
   ]
  },
  {
   "cell_type": "code",
   "execution_count": 15,
   "metadata": {},
   "outputs": [],
   "source": [
    "n = 100"
   ]
  },
  {
   "cell_type": "markdown",
   "metadata": {},
   "source": [
    "### 3.1 Step 1:\n",
    "\n",
    "#### Step 1a:\n",
    "\n",
    "Alice generates the random bits of her secret key:"
   ]
  },
  {
   "cell_type": "code",
   "execution_count": 16,
   "metadata": {},
   "outputs": [
    {
     "name": "stdout",
     "output_type": "stream",
     "text": [
      "[0 1 1 0 1 1 1 1 1 1 1 0 0 1 0 0 0 0 0 1 0 1 1 0 0 1 1 1 1 0 1 0 1 0 1 1 0\n",
      " 1 1 0 0 1 0 1 1 1 1 1 0 1 0 1 1 1 1 0 1 0 0 1 1 0 1 0 1 0 0 0 0 0 1 1 0 0\n",
      " 0 1 1 0 1 0 0 1 0 1 1 1 1 1 1 0 1 1 0 0 1 0 0 1 1 0]\n"
     ]
    }
   ],
   "source": [
    "np.random.seed(seed=0)\n",
    "alice_bits = randint(2, size=n)\n",
    "print(alice_bits)"
   ]
  },
  {
   "cell_type": "markdown",
   "metadata": {},
   "source": [
    "At the moment, the set of bits '`alice_bits`' is only known to Alice. We will keep track of what information is only known to Alice, what information is only known to Bob, and what has been sent over Eve's channel in a table like this:\n",
    "\n",
    "| Alice's Knowledge |Over Eve's Channel| Bob's Knowledge |\n",
    "|:-----------------:|:----------------:|:---------------:|\n",
    "|     alice_bits    |                  |       &nbsp;    |"
   ]
  },
  {
   "cell_type": "markdown",
   "metadata": {},
   "source": [
    "#### Step 1b:\n",
    "\n",
    "Alice then encodes her secret key and sends it to Bob. \n",
    "She encodes each 0 as a $|0\\rangle$, and she encodes each 1 as a $|+\\rangle$.\n",
    "\n",
    "The function `encode_message` below, creates a list of `QuantumCircuit`s, each representing a single qubit in Alice's message:"
   ]
  },
  {
   "cell_type": "code",
   "execution_count": 17,
   "metadata": {
    "tags": [
     "thebelab-init"
    ]
   },
   "outputs": [],
   "source": [
    "def encode_message(bits):\n",
    "    message = []\n",
    "    for i in range(n):\n",
    "        qc = QuantumCircuit(1,1)\n",
    "        # If bit is 0, encode it as a (0)-ket.\n",
    "        if bits[i] == 0: # Prepare qubit in Z-basis\n",
    "            pass\n",
    "        # If bit is 1, encode it as a (+)-ket. \n",
    "        else: # Prepare qubit in X-basis\n",
    "            qc.h(0)\n",
    "        qc.barrier()\n",
    "        message.append(qc)\n",
    "    return message"
   ]
  },
  {
   "cell_type": "code",
   "execution_count": 18,
   "metadata": {},
   "outputs": [],
   "source": [
    "message = encode_message(alice_bits)"
   ]
  },
  {
   "cell_type": "markdown",
   "metadata": {},
   "source": [
    "We can confirm that the first qubit of `message` is in the state $|0\\rangle$, corresponding to a 0 bit:"
   ]
  },
  {
   "cell_type": "code",
   "execution_count": 19,
   "metadata": {},
   "outputs": [
    {
     "name": "stdout",
     "output_type": "stream",
     "text": [
      "Alice's first bit is 0, encoded as shown.\n"
     ]
    },
    {
     "data": {
      "text/html": [
       "<pre style=\"word-wrap: normal;white-space: pre;background: #fff0;line-height: 1.1;font-family: &quot;Courier New&quot;,Courier,monospace\">      ░ \n",
       "q_0: ─░─\n",
       "      ░ \n",
       "c: 1/═══\n",
       "        </pre>"
      ],
      "text/plain": [
       "      ░ \n",
       "q_0: ─░─\n",
       "      ░ \n",
       "c: 1/═══\n",
       "        "
      ]
     },
     "execution_count": 19,
     "metadata": {},
     "output_type": "execute_result"
    }
   ],
   "source": [
    "print(\"Alice's first bit is {}, encoded as shown.\".format(alice_bits[0]))\n",
    "message[0].draw()"
   ]
  },
  {
   "cell_type": "markdown",
   "metadata": {},
   "source": [
    "We can confirm that the second qubit of `message` is in the state $|+\\rangle$, corresponding to a 1 bit:"
   ]
  },
  {
   "cell_type": "code",
   "execution_count": 20,
   "metadata": {},
   "outputs": [
    {
     "name": "stdout",
     "output_type": "stream",
     "text": [
      "Alice's first bit is 1, encoded as shown.\n"
     ]
    },
    {
     "data": {
      "text/html": [
       "<pre style=\"word-wrap: normal;white-space: pre;background: #fff0;line-height: 1.1;font-family: &quot;Courier New&quot;,Courier,monospace\">     ┌───┐ ░ \n",
       "q_0: ┤ H ├─░─\n",
       "     └───┘ ░ \n",
       "c: 1/════════\n",
       "             </pre>"
      ],
      "text/plain": [
       "     ┌───┐ ░ \n",
       "q_0: ┤ H ├─░─\n",
       "     └───┘ ░ \n",
       "c: 1/════════\n",
       "             "
      ]
     },
     "execution_count": 20,
     "metadata": {},
     "output_type": "execute_result"
    }
   ],
   "source": [
    "print(\"Alice's first bit is {}, encoded as shown.\".format(alice_bits[1]))\n",
    "message[1].draw()"
   ]
  },
  {
   "cell_type": "markdown",
   "metadata": {},
   "source": [
    "This message of qubits is then sent to Bob over Eve's quantum channel:\n",
    "\n",
    "| Alice's Knowledge |Over Eve's Channel| Bob's Knowledge |\n",
    "|:-----------------:|:----------------:|:---------------:|\n",
    "|     alice_bits    |                  |                 |\n",
    "|      message      |     message      |     message     |\n",
    "\n",
    "### 3.2 Step 2:\n",
    "\n",
    "#### Step 2a\n",
    "\n",
    "Bob randomly selects between the Binary basis and the Hadamar basis as the basis with which he will measure each qubit that Alice sends him. Letting `B` represent the Binary basis and letting `H` represent Hadamar basis, he might use the bases:"
   ]
  },
  {
   "cell_type": "code",
   "execution_count": 21,
   "metadata": {},
   "outputs": [],
   "source": [
    "def choose_n_bases(n):\n",
    "    return ''.join([['B', 'H'][i] for i in randint(2, size=n)])"
   ]
  },
  {
   "cell_type": "code",
   "execution_count": 22,
   "metadata": {},
   "outputs": [
    {
     "name": "stdout",
     "output_type": "stream",
     "text": [
      "Bob's chosen bases are:\n",
      " HBBHBBBHHBHBBBBBHBHBHHHHHBHHHHBHHBBHBBBBHHBBHBHHHHBBBHBHHHBHBBHBHHBBHBHBHBHBHBBBHBHBHBBBBBHBBHBBBHBB\n"
     ]
    }
   ],
   "source": [
    "bob_bases = choose_n_bases(n)\n",
    "print(\"Bob's chosen bases are:\\n\", bob_bases)"
   ]
  },
  {
   "cell_type": "markdown",
   "metadata": {},
   "source": [
    "`bob_bases` stores Bob's choice for which basis he measures each qubit in.\n",
    "\n",
    "| Alice's Knowledge |Over Eve's Channel| Bob's Knowledge |\n",
    "|:-----------------:|:----------------:|:---------------:|\n",
    "|     alice_bits    |                  |                 |\n",
    "|      message      |     message      |     message     |\n",
    "|                   |                  |    bob_bases    |\n",
    "\n",
    "Bob keeps his basis set choices private for now.\n",
    "\n",
    "#### Step 2b\n",
    "\n",
    "Bob measures each of Alice's sent qubits along the corresponding basis that he chose for it beforehand. \n",
    "\n",
    "Below, the function `measure_message`, applies the corresponding measurement and simulates the result of measuring each qubit. We store the measurement results in `bob_results`."
   ]
  },
  {
   "cell_type": "code",
   "execution_count": 23,
   "metadata": {
    "tags": [
     "thebelab-init"
    ]
   },
   "outputs": [],
   "source": [
    "def measure_message(message, bases):\n",
    "    backend = Aer.get_backend('qasm_simulator')\n",
    "    measurements = []\n",
    "    for q in range(n):\n",
    "        if bases[q] == \"B\": # measuring in Z-basis\n",
    "            message[q].measure(0,0)\n",
    "        if bases[q] == \"H\": # measuring in X-basis\n",
    "            message[q].h(0)\n",
    "            message[q].measure(0,0)\n",
    "        qasm_sim = Aer.get_backend('qasm_simulator')\n",
    "        qobj = assemble(message[q], shots=1, memory=True)\n",
    "        result = qasm_sim.run(qobj).result()\n",
    "        measured_bit = int(result.get_memory()[0])\n",
    "        if bases[q] == \"H\" and measured_bit == 1:\n",
    "            measurements.append(\"-\")\n",
    "        elif bases[q] == \"B\" and measured_bit == 1:\n",
    "            measurements.append(\"1\")\n",
    "        elif bases[q] == \"H\" and measured_bit == 0:\n",
    "            measurements.append(\"+\")\n",
    "        elif bases[q] == \"B\" and measured_bit == 0:\n",
    "            measurements.append(\"0\") \n",
    "    return ''.join(measurements)"
   ]
  },
  {
   "cell_type": "code",
   "execution_count": 24,
   "metadata": {},
   "outputs": [
    {
     "name": "stdout",
     "output_type": "stream",
     "text": [
      "+00+100++0+00100-0-0-++++0++++0-+01+0000++01+1++++001+1-+-0+00+0+-00-0+1-0+1+000-1+1+00100+10-000+00\n"
     ]
    }
   ],
   "source": [
    "bob_measurements = measure_message(message, bob_bases)\n",
    "print(bob_measurements)"
   ]
  },
  {
   "cell_type": "markdown",
   "metadata": {},
   "source": [
    "We can see that the circuit in `message[7]` (representing the 0th qubit) has had an $X$-measurement added to it by Bob:"
   ]
  },
  {
   "cell_type": "code",
   "execution_count": 25,
   "metadata": {},
   "outputs": [
    {
     "data": {
      "text/html": [
       "<pre style=\"word-wrap: normal;white-space: pre;background: #fff0;line-height: 1.1;font-family: &quot;Courier New&quot;,Courier,monospace\">     ┌───┐ ░ ┌───┐┌─┐\n",
       "q_0: ┤ H ├─░─┤ H ├┤M├\n",
       "     └───┘ ░ └───┘└╥┘\n",
       "c: 1/══════════════╩═\n",
       "                   0 </pre>"
      ],
      "text/plain": [
       "     ┌───┐ ░ ┌───┐┌─┐\n",
       "q_0: ┤ H ├─░─┤ H ├┤M├\n",
       "     └───┘ ░ └───┘└╥┘\n",
       "c: 1/══════════════╩═\n",
       "                   0 "
      ]
     },
     "execution_count": 25,
     "metadata": {},
     "output_type": "execute_result"
    }
   ],
   "source": [
    "message[7].draw()"
   ]
  },
  {
   "cell_type": "markdown",
   "metadata": {},
   "source": [
    "Since Bob has by chance chosen to measure in the same basis Alice encoded the qubit in, Bob is guaranteed to get the result `0`. For the 6th qubit (shown below), Bob's random choice of measurement is not the same as Alice's, and Bob's result has only a 50% chance of matching Alices'. "
   ]
  },
  {
   "cell_type": "code",
   "execution_count": 26,
   "metadata": {},
   "outputs": [
    {
     "data": {
      "text/html": [
       "<pre style=\"word-wrap: normal;white-space: pre;background: #fff0;line-height: 1.1;font-family: &quot;Courier New&quot;,Courier,monospace\">     ┌───┐ ░ ┌─┐\n",
       "q_0: ┤ H ├─░─┤M├\n",
       "     └───┘ ░ └╥┘\n",
       "c: 1/═════════╩═\n",
       "              0 </pre>"
      ],
      "text/plain": [
       "     ┌───┐ ░ ┌─┐\n",
       "q_0: ┤ H ├─░─┤M├\n",
       "     └───┘ ░ └╥┘\n",
       "c: 1/═════════╩═\n",
       "              0 "
      ]
     },
     "execution_count": 26,
     "metadata": {},
     "output_type": "execute_result"
    }
   ],
   "source": [
    "message[6].draw()"
   ]
  },
  {
   "cell_type": "markdown",
   "metadata": {},
   "source": [
    "Bob keeps his results private.\n",
    "\n",
    "| Alice's Knowledge | Over Eve's Channel | Bob's Knowledge     |\n",
    "|:-----------------:|:------------------:|:-------------------:|\n",
    "|     alice_bits    |                    |                     |\n",
    "|      message      |       message      |     message         |\n",
    "|                   |                    |    bob_bases        |\n",
    "|                   |                    |   bob_measurements  |"
   ]
  },
  {
   "cell_type": "markdown",
   "metadata": {},
   "source": [
    "#### Step 3a\n",
    "\n",
    "When Bob measures a $|1\\rangle$ or a $|-\\rangle$, he knows for certain that Alice sent him a $|+\\rangle$ or $|0\\rangle$, respectively.\n",
    "However, when Bob measures a $|0\\rangle$ or a $|+\\rangle$, he knows nothing for certain about the qubit Alice just sent him.\n",
    "\n",
    "Thus, Bob infers those sent qubits that he can definitely know, i.e. those corresponding to measurement results of $|1\\rangle$ or $|-\\rangle$. He leaves the other bits empty."
   ]
  },
  {
   "cell_type": "code",
   "execution_count": 27,
   "metadata": {},
   "outputs": [],
   "source": [
    "def bob_infers_sent_qubits_from_measurements(bobs_measurements):\n",
    "    bobs_inferred_sent_qubits = []\n",
    "    for measurement in bobs_measurements:\n",
    "        if measurement in \"0+\":\n",
    "            bobs_inferred_sent_qubits.append(\"?\")\n",
    "        elif measurement == \"1\":\n",
    "            bobs_inferred_sent_qubits.append(\"+\")\n",
    "        elif measurement == \"-\":\n",
    "            bobs_inferred_sent_qubits.append(\"0\")\n",
    "    return \"\".join(bobs_inferred_sent_qubits)"
   ]
  },
  {
   "cell_type": "code",
   "execution_count": 28,
   "metadata": {},
   "outputs": [
    {
     "name": "stdout",
     "output_type": "stream",
     "text": [
      "Bob infers that Alice sent him the qubits:\n",
      " ????+????????+??0?0?0??????????0??+????????+?+??????+?+0?0???????0??0??+0??+????0+?+???+???+?0??????\n"
     ]
    }
   ],
   "source": [
    "bobs_inferred_sent_qubits = bob_infers_sent_qubits_from_measurements(bob_measurements)\n",
    "print(\"Bob infers that Alice sent him the qubits:\\n\", bobs_inferred_sent_qubits)"
   ]
  },
  {
   "cell_type": "markdown",
   "metadata": {},
   "source": [
    "| Alice's Knowledge | Over Eve's Channel | Bob's Knowledge        |\n",
    "|:-----------------:|:------------------:|:----------------------:|\n",
    "|     alice_bits    |                    |                        |\n",
    "|      message      |       message      |     message            |\n",
    "|                   |                    |    bob_bases           |\n",
    "|                   |                    |   bob_measurements     |\n",
    "|                   |                    |   bob_inferred_qubits  |\n",
    "\n",
    "\n",
    "#### Step 3b\n",
    "\n",
    "Bob, knowing that Alice is encoding `1` as $|+\\rangle$ and `0` as $|0\\rangle$, converts his inferred qubits into a partial copy of the secret key that encoded those qubits."
   ]
  },
  {
   "cell_type": "code",
   "execution_count": 29,
   "metadata": {},
   "outputs": [],
   "source": [
    "def decode_known_qubits(bob_inferred_sent_qubits):\n",
    "    return \"\".join(['1' if q == '+' else q for q in bobs_inferred_sent_qubits])"
   ]
  },
  {
   "cell_type": "code",
   "execution_count": 30,
   "metadata": {},
   "outputs": [],
   "source": [
    "bob_partial_key = decode_known_qubits(bobs_inferred_sent_qubits)"
   ]
  },
  {
   "cell_type": "markdown",
   "metadata": {},
   "source": [
    "| Alice's Knowledge | Over Eve's Channel | Bob's Knowledge        |\n",
    "|:-----------------:|:------------------:|:----------------------:|\n",
    "|     alice_bits    |                    |                        |\n",
    "|      message      |       message      |     message            |\n",
    "|                   |                    |    bob_bases           |\n",
    "|                   |                    |   bob_measurements     |\n",
    "|                   |                    |   bob_inferred_qubits  |\n",
    "|                   |                    |   bob_partial_key      |\n",
    "\n",
    "\n",
    "### 3.4 Step 4:\n",
    "\n",
    "After this, Alice reveals (through Eve's channel) which qubits were encoded in which basis: \n",
    "\n",
    "| Alice's Knowledge | Over Eve's Channel | Bob's Knowledge        |\n",
    "|:-----------------:|:------------------:|:----------------------:|\n",
    "|     alice_bits    |                    |                        |\n",
    "|      message      |       message      |     message            |\n",
    "|                   |                    |    bob_bases           |\n",
    "|                   |                    |   bob_measurements     |\n",
    "|                   |                    |   bob_inferred_qubits  |\n",
    "|                   |                    |   bob_partial_key      |\n",
    "|                   |     alice_bases    |   alice_bases          |\n",
    "\n",
    "And Bob reveals which basis he measured each qubit in:\n",
    "\n",
    "| Alice's Knowledge | Over Eve's Channel | Bob's Knowledge        |\n",
    "|:-----------------:|:------------------:|:----------------------:|\n",
    "|     alice_bits    |                    |                        |\n",
    "|      message      |       message      |     message            |\n",
    "|                   |                    |    bob_bases           |\n",
    "|                   |                    |   bob_measurements     |\n",
    "|                   |                    |   bob_inferred_qubits  |\n",
    "|                   |                    |   bob_partial_key      |\n",
    "|                   |     alice_bases    |   alice_bases          |\n",
    "|     bob_bases     |      bob_bases     |                        |\n",
    "\n",
    "If Bob happened to measure a bit in the same basis Alice prepared it in, this means the entry in `bob_partial_key` will match the corresponding entry in `alice_bits`, and they can use that bit as part of their key. If they measured in different bases, Bob's result is random, and they both throw that entry away. Alice and Bob both discard the useless bits, and use the remaining bits to form their secret keys.\n",
    "\n",
    "Here is a function `remove_garbage` that does this for us:"
   ]
  },
  {
   "cell_type": "code",
   "execution_count": 31,
   "metadata": {
    "scrolled": true,
    "tags": [
     "thebelab-init"
    ]
   },
   "outputs": [],
   "source": [
    "def remove_garbage(alice_bits, bob_partial_key):\n",
    "    successfully_determined_bits = ['0' if bit == \"?\" else '1' for bit in bob_partial_key]\n",
    "    alice_sifted_key = []\n",
    "    bob_sifted_key = []\n",
    "    for alice_bit, bob_bit, bit_is_valid in zip(alice_bits, bob_partial_key, successfully_determined_bits):\n",
    "        if bit_is_valid == \"1\":\n",
    "            alice_sifted_key.append(alice_bit)\n",
    "            bob_sifted_key.append(bob_bit)\n",
    "    alice_secret_key = ''.join([str(i) for i in alice_sifted_key])\n",
    "    bob_secret_key = ''.join(bob_sifted_key)\n",
    "    return alice_secret_key, bob_secret_key"
   ]
  },
  {
   "cell_type": "code",
   "execution_count": 32,
   "metadata": {},
   "outputs": [
    {
     "name": "stdout",
     "output_type": "stream",
     "text": [
      "A's Secret Key: 110000111110000101011110\n",
      "B's Secret Key: 110000111110000101011110\n"
     ]
    }
   ],
   "source": [
    "alice_secret_key, bob_secret_key = remove_garbage(alice_bits, bob_partial_key)\n",
    "print(\"A's Secret Key:\", alice_secret_key)\n",
    "print(\"B's Secret Key:\", bob_secret_key)"
   ]
  },
  {
   "cell_type": "markdown",
   "metadata": {},
   "source": [
    "\n",
    "| Alice's Knowledge | Over Eve's Channel | Bob's Knowledge        |\n",
    "|:-----------------:|:------------------:|:----------------------:|\n",
    "|     alice_bits    |                    |                        |\n",
    "|      message      |       message      |     message            |\n",
    "|                   |                    |    bob_bases           |\n",
    "|                   |                    |   bob_measurements     |\n",
    "|                   |                    |   bob_inferred_qubits  |\n",
    "|                   |                    |   bob_partial_key      |\n",
    "|                   |     alice_bases    |   alice_bases          |\n",
    "|     bob_bases     |      bob_bases     |                        |\n",
    "| alice_secret_key  |                    |     bob_secret_key     |"
   ]
  },
  {
   "cell_type": "markdown",
   "metadata": {},
   "source": [
    "### 3.5 Step 5:\n",
    "\n",
    "Finally, Bob and Alice compare a random selection of the bits in their keys to make sure the protocol has worked correctly:"
   ]
  },
  {
   "cell_type": "code",
   "execution_count": 33,
   "metadata": {
    "tags": [
     "thebelab-init"
    ]
   },
   "outputs": [],
   "source": [
    "def sample_bits(bits, selection):\n",
    "    # use np.mod to make sure the\n",
    "    # bit we sample is always in \n",
    "    # the list range\n",
    "    selection_indices = set([np.mod(i, len(bits)) for i in selection])\n",
    "    # Grab the sample\n",
    "    sample = [bits[i] for i in selection_indices]\n",
    "    # Pop all selected bits from the key\n",
    "    remaining_bits = ''.join([bits[i] for i in range(len(bits)) if i not in selection_indices])\n",
    "    return sample, remaining_bits"
   ]
  },
  {
   "cell_type": "markdown",
   "metadata": {},
   "source": [
    "Alice and Bob both broadcast these publicly, and remove them from their keys as they are no longer secret:"
   ]
  },
  {
   "cell_type": "code",
   "execution_count": 34,
   "metadata": {},
   "outputs": [
    {
     "name": "stdout",
     "output_type": "stream",
     "text": [
      "  bob_sample = ['1', '1', '1', '1', '0']\n",
      "alice_sample = ['1', '1', '1', '1', '0']\n"
     ]
    }
   ],
   "source": [
    "np.random.seed(seed=0)\n",
    "n = 100\n",
    "\n",
    "## Step 1\n",
    "# Alice generates bits and sends her message\n",
    "alice_bits = randint(2, size=n)\n",
    "message = encode_message(alice_bits)\n",
    "\n",
    "## Step 2\n",
    "# Bob chooses bases and measures the message\n",
    "bob_bases = choose_n_bases(n)\n",
    "bob_measurements = measure_message(message, bob_bases)\n",
    "\n",
    "## Step 3\n",
    "# Decide which basis to measure in:\n",
    "bobs_inferred_sent_qubits = bob_infers_sent_qubits_from_measurements(bob_measurements)\n",
    "bob_partial_key = decode_known_qubits(bobs_inferred_sent_qubits)\n",
    "\n",
    "## Step 4\n",
    "alice_secret_key, bob_secret_key = remove_garbage(alice_bits, bob_partial_key)\n",
    "\n",
    "## Step 5\n",
    "sample_size = 5\n",
    "bit_selection = randint(n, size=sample_size)\n",
    "\n",
    "bob_sample, bob_secret_key = sample_bits(bob_secret_key, bit_selection)\n",
    "print(\"  bob_sample = \" + str(bob_sample))\n",
    "alice_sample, bob_secret_key = sample_bits(alice_secret_key, bit_selection)\n",
    "print(\"alice_sample = \"+ str(alice_sample))"
   ]
  },
  {
   "cell_type": "markdown",
   "metadata": {},
   "source": [
    "| Alice's Knowledge | Over Eve's Channel | Bob's Knowledge        |\n",
    "|:-----------------:|:------------------:|:----------------------:|\n",
    "|     alice_bits    |                    |                        |\n",
    "|      message      |       message      |     message            |\n",
    "|                   |                    |    bob_bases           |\n",
    "|                   |                    |   bob_measurements     |\n",
    "|                   |                    |   bob_inferred_qubits  |\n",
    "|                   |                    |   bob_partial_key      |\n",
    "|                   |     alice_bases    |   alice_bases          |\n",
    "|     bob_bases     |      bob_bases     |                        |\n",
    "| alice_secret_key  |                    |     bob_secret_key     |\n",
    "|     bob_sample    |     bob_sample     |    bob_sample          |\n",
    "|    alice_sample   |    alice_sample    |   alice_sample         |"
   ]
  },
  {
   "cell_type": "markdown",
   "metadata": {},
   "source": [
    "If the protocol has worked correctly without interference, their samples should match:"
   ]
  },
  {
   "cell_type": "code",
   "execution_count": 35,
   "metadata": {},
   "outputs": [
    {
     "data": {
      "text/plain": [
       "True"
      ]
     },
     "execution_count": 35,
     "metadata": {},
     "output_type": "execute_result"
    }
   ],
   "source": [
    "bob_sample == alice_sample"
   ]
  },
  {
   "cell_type": "markdown",
   "metadata": {},
   "source": [
    "If their samples match, it means (with high probability) `alice_secret_key == bob_secret_key`. They now share a secret key they can use to encrypt their messages!\n",
    "\n",
    "| Alice's Knowledge | Over Eve's Channel | Bob's Knowledge        |\n",
    "|:-----------------:|:------------------:|:----------------------:|\n",
    "|     alice_bits    |                    |                        |\n",
    "|      message      |       message      |     message            |\n",
    "|                   |                    |    bob_bases           |\n",
    "|                   |                    |   bob_measurements     |\n",
    "|                   |                    |   bob_inferred_qubits  |\n",
    "|                   |                    |   bob_partial_key      |\n",
    "|                   |     alice_bases    |   alice_bases          |\n",
    "|     bob_bases     |      bob_bases     |                        |\n",
    "| alice_secret_key  |                    |     bob_secret_key     |\n",
    "|     bob_sample    |     bob_sample     |    bob_sample          |\n",
    "|    alice_sample   |    alice_sample    |   alice_sample         |\n",
    "|     shared_key    |                    |    shared_key          |"
   ]
  },
  {
   "cell_type": "code",
   "execution_count": 36,
   "metadata": {},
   "outputs": [
    {
     "name": "stdout",
     "output_type": "stream",
     "text": [
      "00100101101101001111\n",
      "0011100101101110100111101\n",
      "key length = 25\n"
     ]
    }
   ],
   "source": [
    "print(bob_secret_key)\n",
    "print(alice_secret_key)\n",
    "print(\"key length = %i\" % len(alice_secret_key))"
   ]
  },
  {
   "cell_type": "code",
   "execution_count": 37,
   "metadata": {},
   "outputs": [],
   "source": [
    "def b92():\n",
    "    np.random.seed(seed=0)\n",
    "    n = 100\n",
    "\n",
    "    ## Step 1\n",
    "    # Alice generates bits and sends her message\n",
    "    alice_bits = randint(2, size=n)\n",
    "    message = encode_message(alice_bits)\n",
    "\n",
    "    ## Step 2\n",
    "    # Bob chooses bases and measures the message\n",
    "    bob_bases = choose_n_bases(n)\n",
    "    bob_measurements = measure_message(message, bob_bases)\n",
    "\n",
    "    ## Step 3\n",
    "    # Decide which basis to measure in:\n",
    "    bobs_inferred_sent_qubits = bob_infers_sent_qubits_from_measurements(bob_measurements)\n",
    "    bob_partial_key = decode_known_qubits(bobs_inferred_sent_qubits)\n",
    "\n",
    "    ## Step 4\n",
    "    alice_secret_key, bob_secret_key = remove_garbage(alice_bits, bob_partial_key)\n",
    "    \n",
    "    ## Step 5\n",
    "    sample_size = 5\n",
    "    bit_selection = randint(n, size=sample_size)\n",
    "    bob_sample, bob_secret_key = sample_bits(bob_secret_key, bit_selection)\n",
    "    alice_sample, alice_secret_key = sample_bits(alice_secret_key, bit_selection)\n",
    "    \n",
    "    assert(bob_sample == alice_sample)\n",
    "    assert(bob_secret_key == alice_secret_key)\n",
    "    return len(bob_secret_key) + sample_size # number of matched bits, for verifying that results are as expected (0.25 match rate)"
   ]
  },
  {
   "cell_type": "code",
   "execution_count": 38,
   "metadata": {},
   "outputs": [
    {
     "data": {
      "text/plain": [
       "25"
      ]
     },
     "execution_count": 38,
     "metadata": {},
     "output_type": "execute_result"
    }
   ],
   "source": [
    "b92()"
   ]
  },
  {
   "cell_type": "code",
   "execution_count": null,
   "metadata": {},
   "outputs": [],
   "source": []
  }
 ],
 "metadata": {
  "kernelspec": {
   "display_name": "Python 3",
   "language": "python",
   "name": "python3"
  },
  "language_info": {
   "codemirror_mode": {
    "name": "ipython",
    "version": 3
   },
   "file_extension": ".py",
   "mimetype": "text/x-python",
   "name": "python",
   "nbconvert_exporter": "python",
   "pygments_lexer": "ipython3",
   "version": "3.7.7"
  }
 },
 "nbformat": 4,
 "nbformat_minor": 4
}
